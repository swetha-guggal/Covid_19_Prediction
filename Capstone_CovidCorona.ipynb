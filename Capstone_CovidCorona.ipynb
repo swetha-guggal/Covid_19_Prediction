{
  "nbformat": 4,
  "nbformat_minor": 0,
  "metadata": {
    "colab": {
      "provenance": [],
      "include_colab_link": true
    },
    "kernelspec": {
      "name": "python3",
      "display_name": "Python 3"
    },
    "language_info": {
      "name": "python"
    }
  },
  "cells": [
    {
      "cell_type": "markdown",
      "metadata": {
        "id": "view-in-github",
        "colab_type": "text"
      },
      "source": [
        "<a href=\"https://colab.research.google.com/github/swetha-guggal/Covid_19_Prediction/blob/main/Capstone_CovidCorona.ipynb\" target=\"_parent\"><img src=\"https://colab.research.google.com/assets/colab-badge.svg\" alt=\"Open In Colab\"/></a>"
      ]
    },
    {
      "cell_type": "markdown",
      "source": [
        "# COVID19 PREDICTION"
      ],
      "metadata": {
        "id": "LD_yeoZrC5Vs"
      }
    },
    {
      "cell_type": "markdown",
      "source": [
        "## Life cycle of Machine learning Project\n",
        "\n",
        "- Understanding the Problem Statement\n",
        "- Data Collection\n",
        "- Data Checks to perform\n",
        "- Exploratory data analysis\n",
        "- Data Pre-Processing\n",
        "- Model Training\n",
        "- Choose best model"
      ],
      "metadata": {
        "id": "Fa4CXgsLC_S2"
      }
    },
    {
      "cell_type": "markdown",
      "source": [
        "## 1) Problem statement\n",
        "- This study aims to investigate how various factors, including individual demographics (ID, sex, age), symptoms (cough, fever, sore throat, shortness of breath, headache), and contact history with confirmed COVID-19 cases, affect COVID-19 test results. Simultaneously, the objective is to develop a classification model that accurately predicts COVID-19 test outcomes (positive or negative). This model will assist healthcare professionals in making informed decisions for patient care and resource allocation during the pandemic.\n",
        "\n",
        "## 2) Data Collection\n",
        "- The current dataset has been downloaded from government website and contains around 2,78,848 individuals who have gone through the RT-PCR test.\n",
        "- The data consists of 11 column and 278848 rows."
      ],
      "metadata": {
        "id": "bnHni_jx3Olx"
      }
    },
    {
      "cell_type": "markdown",
      "source": [
        "## 2.1 Import Data and Required Packages\n",
        "###  Importing Pandas, Numpy, Matplotlib, Seaborn and Warnings Library."
      ],
      "metadata": {
        "id": "xCnMJhqq4mw1"
      }
    },
    {
      "cell_type": "code",
      "execution_count": 1,
      "metadata": {
        "id": "R14EeVA7CvGC"
      },
      "outputs": [],
      "source": [
        "import numpy as np\n",
        "import pandas as pd\n",
        "import seaborn as sns\n",
        "import matplotlib.pyplot as plt\n",
        "%matplotlib inline\n",
        "import warnings\n",
        "warnings.filterwarnings('ignore')"
      ]
    },
    {
      "cell_type": "markdown",
      "source": [
        "### Import the CSV Data as Pandas DataFrame"
      ],
      "metadata": {
        "id": "Li-qdb1E6Pth"
      }
    },
    {
      "cell_type": "code",
      "source": [
        "df = pd.read_csv('/content/corona_tested_006.csv')"
      ],
      "metadata": {
        "id": "_3PJ7Fna1cio"
      },
      "execution_count": 2,
      "outputs": []
    },
    {
      "cell_type": "markdown",
      "source": [
        "### Show Top 5 Records"
      ],
      "metadata": {
        "id": "-Plujhhu69JC"
      }
    },
    {
      "cell_type": "code",
      "source": [
        "df.head()"
      ],
      "metadata": {
        "colab": {
          "base_uri": "https://localhost:8080/",
          "height": 206
        },
        "id": "iUKGeSqL1f2Q",
        "outputId": "a262a7f1-3c66-4557-f81f-3a3e4fd5815d"
      },
      "execution_count": 3,
      "outputs": [
        {
          "output_type": "execute_result",
          "data": {
            "text/plain": [
              "   Ind_ID   Test_date Cough_symptoms  Fever Sore_throat Shortness_of_breath  \\\n",
              "0       1  11-03-2020           TRUE  FALSE        TRUE               FALSE   \n",
              "1       2  11-03-2020          FALSE   TRUE       FALSE               FALSE   \n",
              "2       3  11-03-2020          FALSE   TRUE       FALSE               FALSE   \n",
              "3       4  11-03-2020           TRUE  FALSE       FALSE               FALSE   \n",
              "4       5  11-03-2020           TRUE  FALSE       FALSE               FALSE   \n",
              "\n",
              "  Headache    Corona Age_60_above   Sex           Known_contact  \n",
              "0    FALSE  negative         None  None                  Abroad  \n",
              "1    FALSE  positive         None  None                  Abroad  \n",
              "2    FALSE  positive         None  None                  Abroad  \n",
              "3    FALSE  negative         None  None                  Abroad  \n",
              "4    FALSE  negative         None  None  Contact with confirmed  "
            ],
            "text/html": [
              "\n",
              "  <div id=\"df-0daa2a7e-e700-434a-8e07-16e77f88a4ad\" class=\"colab-df-container\">\n",
              "    <div>\n",
              "<style scoped>\n",
              "    .dataframe tbody tr th:only-of-type {\n",
              "        vertical-align: middle;\n",
              "    }\n",
              "\n",
              "    .dataframe tbody tr th {\n",
              "        vertical-align: top;\n",
              "    }\n",
              "\n",
              "    .dataframe thead th {\n",
              "        text-align: right;\n",
              "    }\n",
              "</style>\n",
              "<table border=\"1\" class=\"dataframe\">\n",
              "  <thead>\n",
              "    <tr style=\"text-align: right;\">\n",
              "      <th></th>\n",
              "      <th>Ind_ID</th>\n",
              "      <th>Test_date</th>\n",
              "      <th>Cough_symptoms</th>\n",
              "      <th>Fever</th>\n",
              "      <th>Sore_throat</th>\n",
              "      <th>Shortness_of_breath</th>\n",
              "      <th>Headache</th>\n",
              "      <th>Corona</th>\n",
              "      <th>Age_60_above</th>\n",
              "      <th>Sex</th>\n",
              "      <th>Known_contact</th>\n",
              "    </tr>\n",
              "  </thead>\n",
              "  <tbody>\n",
              "    <tr>\n",
              "      <th>0</th>\n",
              "      <td>1</td>\n",
              "      <td>11-03-2020</td>\n",
              "      <td>TRUE</td>\n",
              "      <td>FALSE</td>\n",
              "      <td>TRUE</td>\n",
              "      <td>FALSE</td>\n",
              "      <td>FALSE</td>\n",
              "      <td>negative</td>\n",
              "      <td>None</td>\n",
              "      <td>None</td>\n",
              "      <td>Abroad</td>\n",
              "    </tr>\n",
              "    <tr>\n",
              "      <th>1</th>\n",
              "      <td>2</td>\n",
              "      <td>11-03-2020</td>\n",
              "      <td>FALSE</td>\n",
              "      <td>TRUE</td>\n",
              "      <td>FALSE</td>\n",
              "      <td>FALSE</td>\n",
              "      <td>FALSE</td>\n",
              "      <td>positive</td>\n",
              "      <td>None</td>\n",
              "      <td>None</td>\n",
              "      <td>Abroad</td>\n",
              "    </tr>\n",
              "    <tr>\n",
              "      <th>2</th>\n",
              "      <td>3</td>\n",
              "      <td>11-03-2020</td>\n",
              "      <td>FALSE</td>\n",
              "      <td>TRUE</td>\n",
              "      <td>FALSE</td>\n",
              "      <td>FALSE</td>\n",
              "      <td>FALSE</td>\n",
              "      <td>positive</td>\n",
              "      <td>None</td>\n",
              "      <td>None</td>\n",
              "      <td>Abroad</td>\n",
              "    </tr>\n",
              "    <tr>\n",
              "      <th>3</th>\n",
              "      <td>4</td>\n",
              "      <td>11-03-2020</td>\n",
              "      <td>TRUE</td>\n",
              "      <td>FALSE</td>\n",
              "      <td>FALSE</td>\n",
              "      <td>FALSE</td>\n",
              "      <td>FALSE</td>\n",
              "      <td>negative</td>\n",
              "      <td>None</td>\n",
              "      <td>None</td>\n",
              "      <td>Abroad</td>\n",
              "    </tr>\n",
              "    <tr>\n",
              "      <th>4</th>\n",
              "      <td>5</td>\n",
              "      <td>11-03-2020</td>\n",
              "      <td>TRUE</td>\n",
              "      <td>FALSE</td>\n",
              "      <td>FALSE</td>\n",
              "      <td>FALSE</td>\n",
              "      <td>FALSE</td>\n",
              "      <td>negative</td>\n",
              "      <td>None</td>\n",
              "      <td>None</td>\n",
              "      <td>Contact with confirmed</td>\n",
              "    </tr>\n",
              "  </tbody>\n",
              "</table>\n",
              "</div>\n",
              "    <div class=\"colab-df-buttons\">\n",
              "\n",
              "  <div class=\"colab-df-container\">\n",
              "    <button class=\"colab-df-convert\" onclick=\"convertToInteractive('df-0daa2a7e-e700-434a-8e07-16e77f88a4ad')\"\n",
              "            title=\"Convert this dataframe to an interactive table.\"\n",
              "            style=\"display:none;\">\n",
              "\n",
              "  <svg xmlns=\"http://www.w3.org/2000/svg\" height=\"24px\" viewBox=\"0 -960 960 960\">\n",
              "    <path d=\"M120-120v-720h720v720H120Zm60-500h600v-160H180v160Zm220 220h160v-160H400v160Zm0 220h160v-160H400v160ZM180-400h160v-160H180v160Zm440 0h160v-160H620v160ZM180-180h160v-160H180v160Zm440 0h160v-160H620v160Z\"/>\n",
              "  </svg>\n",
              "    </button>\n",
              "\n",
              "  <style>\n",
              "    .colab-df-container {\n",
              "      display:flex;\n",
              "      gap: 12px;\n",
              "    }\n",
              "\n",
              "    .colab-df-convert {\n",
              "      background-color: #E8F0FE;\n",
              "      border: none;\n",
              "      border-radius: 50%;\n",
              "      cursor: pointer;\n",
              "      display: none;\n",
              "      fill: #1967D2;\n",
              "      height: 32px;\n",
              "      padding: 0 0 0 0;\n",
              "      width: 32px;\n",
              "    }\n",
              "\n",
              "    .colab-df-convert:hover {\n",
              "      background-color: #E2EBFA;\n",
              "      box-shadow: 0px 1px 2px rgba(60, 64, 67, 0.3), 0px 1px 3px 1px rgba(60, 64, 67, 0.15);\n",
              "      fill: #174EA6;\n",
              "    }\n",
              "\n",
              "    .colab-df-buttons div {\n",
              "      margin-bottom: 4px;\n",
              "    }\n",
              "\n",
              "    [theme=dark] .colab-df-convert {\n",
              "      background-color: #3B4455;\n",
              "      fill: #D2E3FC;\n",
              "    }\n",
              "\n",
              "    [theme=dark] .colab-df-convert:hover {\n",
              "      background-color: #434B5C;\n",
              "      box-shadow: 0px 1px 3px 1px rgba(0, 0, 0, 0.15);\n",
              "      filter: drop-shadow(0px 1px 2px rgba(0, 0, 0, 0.3));\n",
              "      fill: #FFFFFF;\n",
              "    }\n",
              "  </style>\n",
              "\n",
              "    <script>\n",
              "      const buttonEl =\n",
              "        document.querySelector('#df-0daa2a7e-e700-434a-8e07-16e77f88a4ad button.colab-df-convert');\n",
              "      buttonEl.style.display =\n",
              "        google.colab.kernel.accessAllowed ? 'block' : 'none';\n",
              "\n",
              "      async function convertToInteractive(key) {\n",
              "        const element = document.querySelector('#df-0daa2a7e-e700-434a-8e07-16e77f88a4ad');\n",
              "        const dataTable =\n",
              "          await google.colab.kernel.invokeFunction('convertToInteractive',\n",
              "                                                    [key], {});\n",
              "        if (!dataTable) return;\n",
              "\n",
              "        const docLinkHtml = 'Like what you see? Visit the ' +\n",
              "          '<a target=\"_blank\" href=https://colab.research.google.com/notebooks/data_table.ipynb>data table notebook</a>'\n",
              "          + ' to learn more about interactive tables.';\n",
              "        element.innerHTML = '';\n",
              "        dataTable['output_type'] = 'display_data';\n",
              "        await google.colab.output.renderOutput(dataTable, element);\n",
              "        const docLink = document.createElement('div');\n",
              "        docLink.innerHTML = docLinkHtml;\n",
              "        element.appendChild(docLink);\n",
              "      }\n",
              "    </script>\n",
              "  </div>\n",
              "\n",
              "\n",
              "<div id=\"df-7645e3ca-3a81-47f2-84bd-11103d764ee7\">\n",
              "  <button class=\"colab-df-quickchart\" onclick=\"quickchart('df-7645e3ca-3a81-47f2-84bd-11103d764ee7')\"\n",
              "            title=\"Suggest charts.\"\n",
              "            style=\"display:none;\">\n",
              "\n",
              "<svg xmlns=\"http://www.w3.org/2000/svg\" height=\"24px\"viewBox=\"0 0 24 24\"\n",
              "     width=\"24px\">\n",
              "    <g>\n",
              "        <path d=\"M19 3H5c-1.1 0-2 .9-2 2v14c0 1.1.9 2 2 2h14c1.1 0 2-.9 2-2V5c0-1.1-.9-2-2-2zM9 17H7v-7h2v7zm4 0h-2V7h2v10zm4 0h-2v-4h2v4z\"/>\n",
              "    </g>\n",
              "</svg>\n",
              "  </button>\n",
              "\n",
              "<style>\n",
              "  .colab-df-quickchart {\n",
              "      --bg-color: #E8F0FE;\n",
              "      --fill-color: #1967D2;\n",
              "      --hover-bg-color: #E2EBFA;\n",
              "      --hover-fill-color: #174EA6;\n",
              "      --disabled-fill-color: #AAA;\n",
              "      --disabled-bg-color: #DDD;\n",
              "  }\n",
              "\n",
              "  [theme=dark] .colab-df-quickchart {\n",
              "      --bg-color: #3B4455;\n",
              "      --fill-color: #D2E3FC;\n",
              "      --hover-bg-color: #434B5C;\n",
              "      --hover-fill-color: #FFFFFF;\n",
              "      --disabled-bg-color: #3B4455;\n",
              "      --disabled-fill-color: #666;\n",
              "  }\n",
              "\n",
              "  .colab-df-quickchart {\n",
              "    background-color: var(--bg-color);\n",
              "    border: none;\n",
              "    border-radius: 50%;\n",
              "    cursor: pointer;\n",
              "    display: none;\n",
              "    fill: var(--fill-color);\n",
              "    height: 32px;\n",
              "    padding: 0;\n",
              "    width: 32px;\n",
              "  }\n",
              "\n",
              "  .colab-df-quickchart:hover {\n",
              "    background-color: var(--hover-bg-color);\n",
              "    box-shadow: 0 1px 2px rgba(60, 64, 67, 0.3), 0 1px 3px 1px rgba(60, 64, 67, 0.15);\n",
              "    fill: var(--button-hover-fill-color);\n",
              "  }\n",
              "\n",
              "  .colab-df-quickchart-complete:disabled,\n",
              "  .colab-df-quickchart-complete:disabled:hover {\n",
              "    background-color: var(--disabled-bg-color);\n",
              "    fill: var(--disabled-fill-color);\n",
              "    box-shadow: none;\n",
              "  }\n",
              "\n",
              "  .colab-df-spinner {\n",
              "    border: 2px solid var(--fill-color);\n",
              "    border-color: transparent;\n",
              "    border-bottom-color: var(--fill-color);\n",
              "    animation:\n",
              "      spin 1s steps(1) infinite;\n",
              "  }\n",
              "\n",
              "  @keyframes spin {\n",
              "    0% {\n",
              "      border-color: transparent;\n",
              "      border-bottom-color: var(--fill-color);\n",
              "      border-left-color: var(--fill-color);\n",
              "    }\n",
              "    20% {\n",
              "      border-color: transparent;\n",
              "      border-left-color: var(--fill-color);\n",
              "      border-top-color: var(--fill-color);\n",
              "    }\n",
              "    30% {\n",
              "      border-color: transparent;\n",
              "      border-left-color: var(--fill-color);\n",
              "      border-top-color: var(--fill-color);\n",
              "      border-right-color: var(--fill-color);\n",
              "    }\n",
              "    40% {\n",
              "      border-color: transparent;\n",
              "      border-right-color: var(--fill-color);\n",
              "      border-top-color: var(--fill-color);\n",
              "    }\n",
              "    60% {\n",
              "      border-color: transparent;\n",
              "      border-right-color: var(--fill-color);\n",
              "    }\n",
              "    80% {\n",
              "      border-color: transparent;\n",
              "      border-right-color: var(--fill-color);\n",
              "      border-bottom-color: var(--fill-color);\n",
              "    }\n",
              "    90% {\n",
              "      border-color: transparent;\n",
              "      border-bottom-color: var(--fill-color);\n",
              "    }\n",
              "  }\n",
              "</style>\n",
              "\n",
              "  <script>\n",
              "    async function quickchart(key) {\n",
              "      const quickchartButtonEl =\n",
              "        document.querySelector('#' + key + ' button');\n",
              "      quickchartButtonEl.disabled = true;  // To prevent multiple clicks.\n",
              "      quickchartButtonEl.classList.add('colab-df-spinner');\n",
              "      try {\n",
              "        const charts = await google.colab.kernel.invokeFunction(\n",
              "            'suggestCharts', [key], {});\n",
              "      } catch (error) {\n",
              "        console.error('Error during call to suggestCharts:', error);\n",
              "      }\n",
              "      quickchartButtonEl.classList.remove('colab-df-spinner');\n",
              "      quickchartButtonEl.classList.add('colab-df-quickchart-complete');\n",
              "    }\n",
              "    (() => {\n",
              "      let quickchartButtonEl =\n",
              "        document.querySelector('#df-7645e3ca-3a81-47f2-84bd-11103d764ee7 button');\n",
              "      quickchartButtonEl.style.display =\n",
              "        google.colab.kernel.accessAllowed ? 'block' : 'none';\n",
              "    })();\n",
              "  </script>\n",
              "</div>\n",
              "    </div>\n",
              "  </div>\n"
            ]
          },
          "metadata": {},
          "execution_count": 3
        }
      ]
    },
    {
      "cell_type": "markdown",
      "source": [
        "### Shape of the dataset"
      ],
      "metadata": {
        "id": "RbbSrC5y7Kiy"
      }
    },
    {
      "cell_type": "code",
      "source": [
        "df.shape"
      ],
      "metadata": {
        "colab": {
          "base_uri": "https://localhost:8080/"
        },
        "id": "z75qafP67AMC",
        "outputId": "cbcc83bc-4580-46d3-e7d1-caee0d5425d9"
      },
      "execution_count": 4,
      "outputs": [
        {
          "output_type": "execute_result",
          "data": {
            "text/plain": [
              "(278848, 11)"
            ]
          },
          "metadata": {},
          "execution_count": 4
        }
      ]
    },
    {
      "cell_type": "markdown",
      "source": [
        "## 2.2 Dataset information"
      ],
      "metadata": {
        "id": "XfTjaGWZ742s"
      }
    },
    {
      "cell_type": "markdown",
      "source": [
        "A. Basic information:\n",
        "\n",
        "- ID (Individual ID)\n",
        "- Sex (male/female).\n",
        "- Age ≥60 above years (true/false)\n",
        "- Test date (date when tested for COVID)\n",
        "\n",
        "\n",
        "B. Symptoms:\n",
        "- Cough (true/false).\n",
        "- Fever (true/false)\n",
        "- Sore throat (true/false).\n",
        "- Shortness of breath (true/false).\n",
        "- Headache (true/false).\n",
        "\n",
        "\n",
        "C. Other information:\n",
        "\n",
        "- Known contact with an individual confirmed to have COVID-19 (true/false).\n",
        "\n",
        "\n",
        "D. Covid report\n",
        "\n",
        "- Corona positive or negative\n",
        "\n"
      ],
      "metadata": {
        "id": "lUCkec0C77OI"
      }
    },
    {
      "cell_type": "markdown",
      "source": [
        "## 3. Data Checks to perform\n",
        "\n",
        "- Check Missing values\n",
        "- Check Duplicates\n",
        "- Check data type\n",
        "- Check the number of unique values of each column\n",
        "- Check statistics of data set\n",
        "- Check various categories present in the different categorical column"
      ],
      "metadata": {
        "id": "4gJXiXAd9Jwm"
      }
    },
    {
      "cell_type": "markdown",
      "source": [
        "### 3.1 Check Missing values"
      ],
      "metadata": {
        "id": "kfGxNTu49Te5"
      }
    },
    {
      "cell_type": "code",
      "source": [
        "df.isnull().sum()"
      ],
      "metadata": {
        "colab": {
          "base_uri": "https://localhost:8080/"
        },
        "id": "60ReWvzJ7MUC",
        "outputId": "1d6cd3ae-7d7d-475c-9549-198d554705ae"
      },
      "execution_count": 5,
      "outputs": [
        {
          "output_type": "execute_result",
          "data": {
            "text/plain": [
              "Ind_ID                 0\n",
              "Test_date              0\n",
              "Cough_symptoms         0\n",
              "Fever                  0\n",
              "Sore_throat            0\n",
              "Shortness_of_breath    0\n",
              "Headache               0\n",
              "Corona                 0\n",
              "Age_60_above           0\n",
              "Sex                    0\n",
              "Known_contact          0\n",
              "dtype: int64"
            ]
          },
          "metadata": {},
          "execution_count": 5
        }
      ]
    },
    {
      "cell_type": "markdown",
      "source": [
        "**There are no missing values in the data set.**"
      ],
      "metadata": {
        "id": "zbtbcvLU9zEJ"
      }
    },
    {
      "cell_type": "markdown",
      "source": [
        "### 3.2 Check Duplicates"
      ],
      "metadata": {
        "id": "g5qu30DW-qTI"
      }
    },
    {
      "cell_type": "code",
      "source": [
        "df.duplicated().sum()"
      ],
      "metadata": {
        "colab": {
          "base_uri": "https://localhost:8080/"
        },
        "id": "IE7H0KLu9sXA",
        "outputId": "5443a0f3-9ff6-4fcf-ee59-82680dbcb8af"
      },
      "execution_count": 6,
      "outputs": [
        {
          "output_type": "execute_result",
          "data": {
            "text/plain": [
              "0"
            ]
          },
          "metadata": {},
          "execution_count": 6
        }
      ]
    },
    {
      "cell_type": "markdown",
      "source": [
        "**There are no duplicates values in the data set.**"
      ],
      "metadata": {
        "id": "NvpZWTyu-1Ae"
      }
    },
    {
      "cell_type": "markdown",
      "source": [
        "### 3.3 Check data types"
      ],
      "metadata": {
        "id": "ZywpytHI_B7n"
      }
    },
    {
      "cell_type": "code",
      "source": [
        "df.info()"
      ],
      "metadata": {
        "colab": {
          "base_uri": "https://localhost:8080/"
        },
        "id": "gSxVOPnv-w6S",
        "outputId": "14f45e35-44fb-42f7-9444-94ee0e804af1"
      },
      "execution_count": 7,
      "outputs": [
        {
          "output_type": "stream",
          "name": "stdout",
          "text": [
            "<class 'pandas.core.frame.DataFrame'>\n",
            "RangeIndex: 278848 entries, 0 to 278847\n",
            "Data columns (total 11 columns):\n",
            " #   Column               Non-Null Count   Dtype \n",
            "---  ------               --------------   ----- \n",
            " 0   Ind_ID               278848 non-null  int64 \n",
            " 1   Test_date            278848 non-null  object\n",
            " 2   Cough_symptoms       278848 non-null  object\n",
            " 3   Fever                278848 non-null  object\n",
            " 4   Sore_throat          278848 non-null  object\n",
            " 5   Shortness_of_breath  278848 non-null  object\n",
            " 6   Headache             278848 non-null  object\n",
            " 7   Corona               278848 non-null  object\n",
            " 8   Age_60_above         278848 non-null  object\n",
            " 9   Sex                  278848 non-null  object\n",
            " 10  Known_contact        278848 non-null  object\n",
            "dtypes: int64(1), object(10)\n",
            "memory usage: 23.4+ MB\n"
          ]
        }
      ]
    },
    {
      "cell_type": "markdown",
      "source": [
        "### 3.4 Checking the number of unique values of each column"
      ],
      "metadata": {
        "id": "_u9A6jr9_XsL"
      }
    },
    {
      "cell_type": "code",
      "source": [
        "df.nunique()"
      ],
      "metadata": {
        "colab": {
          "base_uri": "https://localhost:8080/"
        },
        "id": "xpTR9q_C_Dic",
        "outputId": "e3428477-9da7-4587-e9e2-97387c4a91d8"
      },
      "execution_count": 8,
      "outputs": [
        {
          "output_type": "execute_result",
          "data": {
            "text/plain": [
              "Ind_ID                 278848\n",
              "Test_date                  51\n",
              "Cough_symptoms              5\n",
              "Fever                       5\n",
              "Sore_throat                 5\n",
              "Shortness_of_breath         5\n",
              "Headache                    5\n",
              "Corona                      3\n",
              "Age_60_above                3\n",
              "Sex                         3\n",
              "Known_contact               3\n",
              "dtype: int64"
            ]
          },
          "metadata": {},
          "execution_count": 8
        }
      ]
    },
    {
      "cell_type": "markdown",
      "source": [
        "### 3.5 Check statistics of data set"
      ],
      "metadata": {
        "id": "buKi7-y6ALrj"
      }
    },
    {
      "cell_type": "code",
      "source": [
        "df.describe(include='object')"
      ],
      "metadata": {
        "colab": {
          "base_uri": "https://localhost:8080/",
          "height": 175
        },
        "id": "woU8dy8T_gsZ",
        "outputId": "0b35346e-79e5-4120-8c2a-b74a600a5542"
      },
      "execution_count": 9,
      "outputs": [
        {
          "output_type": "execute_result",
          "data": {
            "text/plain": [
              "         Test_date Cough_symptoms   Fever Sore_throat Shortness_of_breath  \\\n",
              "count       278848         278848  278848      278848              278848   \n",
              "unique          51              5       5           5                   5   \n",
              "top     20-04-2020          False   False       False               False   \n",
              "freq         10921         127531  137774      212584              212842   \n",
              "\n",
              "       Headache    Corona Age_60_above     Sex Known_contact  \n",
              "count    278848    278848       278848  278848        278848  \n",
              "unique        5         3            3       3             3  \n",
              "top       False  negative         None  female         Other  \n",
              "freq     212326    260227       127320  130158        242741  "
            ],
            "text/html": [
              "\n",
              "  <div id=\"df-bbf77c75-d174-4604-a09a-ac4e7b283762\" class=\"colab-df-container\">\n",
              "    <div>\n",
              "<style scoped>\n",
              "    .dataframe tbody tr th:only-of-type {\n",
              "        vertical-align: middle;\n",
              "    }\n",
              "\n",
              "    .dataframe tbody tr th {\n",
              "        vertical-align: top;\n",
              "    }\n",
              "\n",
              "    .dataframe thead th {\n",
              "        text-align: right;\n",
              "    }\n",
              "</style>\n",
              "<table border=\"1\" class=\"dataframe\">\n",
              "  <thead>\n",
              "    <tr style=\"text-align: right;\">\n",
              "      <th></th>\n",
              "      <th>Test_date</th>\n",
              "      <th>Cough_symptoms</th>\n",
              "      <th>Fever</th>\n",
              "      <th>Sore_throat</th>\n",
              "      <th>Shortness_of_breath</th>\n",
              "      <th>Headache</th>\n",
              "      <th>Corona</th>\n",
              "      <th>Age_60_above</th>\n",
              "      <th>Sex</th>\n",
              "      <th>Known_contact</th>\n",
              "    </tr>\n",
              "  </thead>\n",
              "  <tbody>\n",
              "    <tr>\n",
              "      <th>count</th>\n",
              "      <td>278848</td>\n",
              "      <td>278848</td>\n",
              "      <td>278848</td>\n",
              "      <td>278848</td>\n",
              "      <td>278848</td>\n",
              "      <td>278848</td>\n",
              "      <td>278848</td>\n",
              "      <td>278848</td>\n",
              "      <td>278848</td>\n",
              "      <td>278848</td>\n",
              "    </tr>\n",
              "    <tr>\n",
              "      <th>unique</th>\n",
              "      <td>51</td>\n",
              "      <td>5</td>\n",
              "      <td>5</td>\n",
              "      <td>5</td>\n",
              "      <td>5</td>\n",
              "      <td>5</td>\n",
              "      <td>3</td>\n",
              "      <td>3</td>\n",
              "      <td>3</td>\n",
              "      <td>3</td>\n",
              "    </tr>\n",
              "    <tr>\n",
              "      <th>top</th>\n",
              "      <td>20-04-2020</td>\n",
              "      <td>False</td>\n",
              "      <td>False</td>\n",
              "      <td>False</td>\n",
              "      <td>False</td>\n",
              "      <td>False</td>\n",
              "      <td>negative</td>\n",
              "      <td>None</td>\n",
              "      <td>female</td>\n",
              "      <td>Other</td>\n",
              "    </tr>\n",
              "    <tr>\n",
              "      <th>freq</th>\n",
              "      <td>10921</td>\n",
              "      <td>127531</td>\n",
              "      <td>137774</td>\n",
              "      <td>212584</td>\n",
              "      <td>212842</td>\n",
              "      <td>212326</td>\n",
              "      <td>260227</td>\n",
              "      <td>127320</td>\n",
              "      <td>130158</td>\n",
              "      <td>242741</td>\n",
              "    </tr>\n",
              "  </tbody>\n",
              "</table>\n",
              "</div>\n",
              "    <div class=\"colab-df-buttons\">\n",
              "\n",
              "  <div class=\"colab-df-container\">\n",
              "    <button class=\"colab-df-convert\" onclick=\"convertToInteractive('df-bbf77c75-d174-4604-a09a-ac4e7b283762')\"\n",
              "            title=\"Convert this dataframe to an interactive table.\"\n",
              "            style=\"display:none;\">\n",
              "\n",
              "  <svg xmlns=\"http://www.w3.org/2000/svg\" height=\"24px\" viewBox=\"0 -960 960 960\">\n",
              "    <path d=\"M120-120v-720h720v720H120Zm60-500h600v-160H180v160Zm220 220h160v-160H400v160Zm0 220h160v-160H400v160ZM180-400h160v-160H180v160Zm440 0h160v-160H620v160ZM180-180h160v-160H180v160Zm440 0h160v-160H620v160Z\"/>\n",
              "  </svg>\n",
              "    </button>\n",
              "\n",
              "  <style>\n",
              "    .colab-df-container {\n",
              "      display:flex;\n",
              "      gap: 12px;\n",
              "    }\n",
              "\n",
              "    .colab-df-convert {\n",
              "      background-color: #E8F0FE;\n",
              "      border: none;\n",
              "      border-radius: 50%;\n",
              "      cursor: pointer;\n",
              "      display: none;\n",
              "      fill: #1967D2;\n",
              "      height: 32px;\n",
              "      padding: 0 0 0 0;\n",
              "      width: 32px;\n",
              "    }\n",
              "\n",
              "    .colab-df-convert:hover {\n",
              "      background-color: #E2EBFA;\n",
              "      box-shadow: 0px 1px 2px rgba(60, 64, 67, 0.3), 0px 1px 3px 1px rgba(60, 64, 67, 0.15);\n",
              "      fill: #174EA6;\n",
              "    }\n",
              "\n",
              "    .colab-df-buttons div {\n",
              "      margin-bottom: 4px;\n",
              "    }\n",
              "\n",
              "    [theme=dark] .colab-df-convert {\n",
              "      background-color: #3B4455;\n",
              "      fill: #D2E3FC;\n",
              "    }\n",
              "\n",
              "    [theme=dark] .colab-df-convert:hover {\n",
              "      background-color: #434B5C;\n",
              "      box-shadow: 0px 1px 3px 1px rgba(0, 0, 0, 0.15);\n",
              "      filter: drop-shadow(0px 1px 2px rgba(0, 0, 0, 0.3));\n",
              "      fill: #FFFFFF;\n",
              "    }\n",
              "  </style>\n",
              "\n",
              "    <script>\n",
              "      const buttonEl =\n",
              "        document.querySelector('#df-bbf77c75-d174-4604-a09a-ac4e7b283762 button.colab-df-convert');\n",
              "      buttonEl.style.display =\n",
              "        google.colab.kernel.accessAllowed ? 'block' : 'none';\n",
              "\n",
              "      async function convertToInteractive(key) {\n",
              "        const element = document.querySelector('#df-bbf77c75-d174-4604-a09a-ac4e7b283762');\n",
              "        const dataTable =\n",
              "          await google.colab.kernel.invokeFunction('convertToInteractive',\n",
              "                                                    [key], {});\n",
              "        if (!dataTable) return;\n",
              "\n",
              "        const docLinkHtml = 'Like what you see? Visit the ' +\n",
              "          '<a target=\"_blank\" href=https://colab.research.google.com/notebooks/data_table.ipynb>data table notebook</a>'\n",
              "          + ' to learn more about interactive tables.';\n",
              "        element.innerHTML = '';\n",
              "        dataTable['output_type'] = 'display_data';\n",
              "        await google.colab.output.renderOutput(dataTable, element);\n",
              "        const docLink = document.createElement('div');\n",
              "        docLink.innerHTML = docLinkHtml;\n",
              "        element.appendChild(docLink);\n",
              "      }\n",
              "    </script>\n",
              "  </div>\n",
              "\n",
              "\n",
              "<div id=\"df-88c2d5a7-d3d4-4670-a573-c00c6aba2292\">\n",
              "  <button class=\"colab-df-quickchart\" onclick=\"quickchart('df-88c2d5a7-d3d4-4670-a573-c00c6aba2292')\"\n",
              "            title=\"Suggest charts.\"\n",
              "            style=\"display:none;\">\n",
              "\n",
              "<svg xmlns=\"http://www.w3.org/2000/svg\" height=\"24px\"viewBox=\"0 0 24 24\"\n",
              "     width=\"24px\">\n",
              "    <g>\n",
              "        <path d=\"M19 3H5c-1.1 0-2 .9-2 2v14c0 1.1.9 2 2 2h14c1.1 0 2-.9 2-2V5c0-1.1-.9-2-2-2zM9 17H7v-7h2v7zm4 0h-2V7h2v10zm4 0h-2v-4h2v4z\"/>\n",
              "    </g>\n",
              "</svg>\n",
              "  </button>\n",
              "\n",
              "<style>\n",
              "  .colab-df-quickchart {\n",
              "      --bg-color: #E8F0FE;\n",
              "      --fill-color: #1967D2;\n",
              "      --hover-bg-color: #E2EBFA;\n",
              "      --hover-fill-color: #174EA6;\n",
              "      --disabled-fill-color: #AAA;\n",
              "      --disabled-bg-color: #DDD;\n",
              "  }\n",
              "\n",
              "  [theme=dark] .colab-df-quickchart {\n",
              "      --bg-color: #3B4455;\n",
              "      --fill-color: #D2E3FC;\n",
              "      --hover-bg-color: #434B5C;\n",
              "      --hover-fill-color: #FFFFFF;\n",
              "      --disabled-bg-color: #3B4455;\n",
              "      --disabled-fill-color: #666;\n",
              "  }\n",
              "\n",
              "  .colab-df-quickchart {\n",
              "    background-color: var(--bg-color);\n",
              "    border: none;\n",
              "    border-radius: 50%;\n",
              "    cursor: pointer;\n",
              "    display: none;\n",
              "    fill: var(--fill-color);\n",
              "    height: 32px;\n",
              "    padding: 0;\n",
              "    width: 32px;\n",
              "  }\n",
              "\n",
              "  .colab-df-quickchart:hover {\n",
              "    background-color: var(--hover-bg-color);\n",
              "    box-shadow: 0 1px 2px rgba(60, 64, 67, 0.3), 0 1px 3px 1px rgba(60, 64, 67, 0.15);\n",
              "    fill: var(--button-hover-fill-color);\n",
              "  }\n",
              "\n",
              "  .colab-df-quickchart-complete:disabled,\n",
              "  .colab-df-quickchart-complete:disabled:hover {\n",
              "    background-color: var(--disabled-bg-color);\n",
              "    fill: var(--disabled-fill-color);\n",
              "    box-shadow: none;\n",
              "  }\n",
              "\n",
              "  .colab-df-spinner {\n",
              "    border: 2px solid var(--fill-color);\n",
              "    border-color: transparent;\n",
              "    border-bottom-color: var(--fill-color);\n",
              "    animation:\n",
              "      spin 1s steps(1) infinite;\n",
              "  }\n",
              "\n",
              "  @keyframes spin {\n",
              "    0% {\n",
              "      border-color: transparent;\n",
              "      border-bottom-color: var(--fill-color);\n",
              "      border-left-color: var(--fill-color);\n",
              "    }\n",
              "    20% {\n",
              "      border-color: transparent;\n",
              "      border-left-color: var(--fill-color);\n",
              "      border-top-color: var(--fill-color);\n",
              "    }\n",
              "    30% {\n",
              "      border-color: transparent;\n",
              "      border-left-color: var(--fill-color);\n",
              "      border-top-color: var(--fill-color);\n",
              "      border-right-color: var(--fill-color);\n",
              "    }\n",
              "    40% {\n",
              "      border-color: transparent;\n",
              "      border-right-color: var(--fill-color);\n",
              "      border-top-color: var(--fill-color);\n",
              "    }\n",
              "    60% {\n",
              "      border-color: transparent;\n",
              "      border-right-color: var(--fill-color);\n",
              "    }\n",
              "    80% {\n",
              "      border-color: transparent;\n",
              "      border-right-color: var(--fill-color);\n",
              "      border-bottom-color: var(--fill-color);\n",
              "    }\n",
              "    90% {\n",
              "      border-color: transparent;\n",
              "      border-bottom-color: var(--fill-color);\n",
              "    }\n",
              "  }\n",
              "</style>\n",
              "\n",
              "  <script>\n",
              "    async function quickchart(key) {\n",
              "      const quickchartButtonEl =\n",
              "        document.querySelector('#' + key + ' button');\n",
              "      quickchartButtonEl.disabled = true;  // To prevent multiple clicks.\n",
              "      quickchartButtonEl.classList.add('colab-df-spinner');\n",
              "      try {\n",
              "        const charts = await google.colab.kernel.invokeFunction(\n",
              "            'suggestCharts', [key], {});\n",
              "      } catch (error) {\n",
              "        console.error('Error during call to suggestCharts:', error);\n",
              "      }\n",
              "      quickchartButtonEl.classList.remove('colab-df-spinner');\n",
              "      quickchartButtonEl.classList.add('colab-df-quickchart-complete');\n",
              "    }\n",
              "    (() => {\n",
              "      let quickchartButtonEl =\n",
              "        document.querySelector('#df-88c2d5a7-d3d4-4670-a573-c00c6aba2292 button');\n",
              "      quickchartButtonEl.style.display =\n",
              "        google.colab.kernel.accessAllowed ? 'block' : 'none';\n",
              "    })();\n",
              "  </script>\n",
              "</div>\n",
              "    </div>\n",
              "  </div>\n"
            ]
          },
          "metadata": {},
          "execution_count": 9
        }
      ]
    },
    {
      "cell_type": "markdown",
      "source": [
        "**Insight**\n",
        "\n",
        "- The most frequent date is 20-04-2020, which suggests a significant number of tests conducted on that particular day.\n",
        "- The majority of individuals did not report symptoms such as cough, fever, sore throat, shortness of breath, or headache. These symptoms were often marked as \"False\".\n",
        "- The majority of individuals tested negative for COVID-19 (260,227 times).\n",
        "- \"None\" is a common entry for the \"Age_60_above\" column, indicating that the age information is not available for a significant number of individuals."
      ],
      "metadata": {
        "id": "xHTvHKMmA4Nu"
      }
    },
    {
      "cell_type": "markdown",
      "source": [
        "### 3.7 Exploring Data"
      ],
      "metadata": {
        "id": "oj66Lps9ENUP"
      }
    },
    {
      "cell_type": "code",
      "source": [
        "df.head()"
      ],
      "metadata": {
        "colab": {
          "base_uri": "https://localhost:8080/",
          "height": 206
        },
        "id": "h3wwU27fAPYm",
        "outputId": "1a7705a9-e8fe-437d-ea26-ff83e39b54eb"
      },
      "execution_count": 10,
      "outputs": [
        {
          "output_type": "execute_result",
          "data": {
            "text/plain": [
              "   Ind_ID   Test_date Cough_symptoms  Fever Sore_throat Shortness_of_breath  \\\n",
              "0       1  11-03-2020           TRUE  FALSE        TRUE               FALSE   \n",
              "1       2  11-03-2020          FALSE   TRUE       FALSE               FALSE   \n",
              "2       3  11-03-2020          FALSE   TRUE       FALSE               FALSE   \n",
              "3       4  11-03-2020           TRUE  FALSE       FALSE               FALSE   \n",
              "4       5  11-03-2020           TRUE  FALSE       FALSE               FALSE   \n",
              "\n",
              "  Headache    Corona Age_60_above   Sex           Known_contact  \n",
              "0    FALSE  negative         None  None                  Abroad  \n",
              "1    FALSE  positive         None  None                  Abroad  \n",
              "2    FALSE  positive         None  None                  Abroad  \n",
              "3    FALSE  negative         None  None                  Abroad  \n",
              "4    FALSE  negative         None  None  Contact with confirmed  "
            ],
            "text/html": [
              "\n",
              "  <div id=\"df-cf64241b-c65f-4b7c-ab76-41d7382af3ee\" class=\"colab-df-container\">\n",
              "    <div>\n",
              "<style scoped>\n",
              "    .dataframe tbody tr th:only-of-type {\n",
              "        vertical-align: middle;\n",
              "    }\n",
              "\n",
              "    .dataframe tbody tr th {\n",
              "        vertical-align: top;\n",
              "    }\n",
              "\n",
              "    .dataframe thead th {\n",
              "        text-align: right;\n",
              "    }\n",
              "</style>\n",
              "<table border=\"1\" class=\"dataframe\">\n",
              "  <thead>\n",
              "    <tr style=\"text-align: right;\">\n",
              "      <th></th>\n",
              "      <th>Ind_ID</th>\n",
              "      <th>Test_date</th>\n",
              "      <th>Cough_symptoms</th>\n",
              "      <th>Fever</th>\n",
              "      <th>Sore_throat</th>\n",
              "      <th>Shortness_of_breath</th>\n",
              "      <th>Headache</th>\n",
              "      <th>Corona</th>\n",
              "      <th>Age_60_above</th>\n",
              "      <th>Sex</th>\n",
              "      <th>Known_contact</th>\n",
              "    </tr>\n",
              "  </thead>\n",
              "  <tbody>\n",
              "    <tr>\n",
              "      <th>0</th>\n",
              "      <td>1</td>\n",
              "      <td>11-03-2020</td>\n",
              "      <td>TRUE</td>\n",
              "      <td>FALSE</td>\n",
              "      <td>TRUE</td>\n",
              "      <td>FALSE</td>\n",
              "      <td>FALSE</td>\n",
              "      <td>negative</td>\n",
              "      <td>None</td>\n",
              "      <td>None</td>\n",
              "      <td>Abroad</td>\n",
              "    </tr>\n",
              "    <tr>\n",
              "      <th>1</th>\n",
              "      <td>2</td>\n",
              "      <td>11-03-2020</td>\n",
              "      <td>FALSE</td>\n",
              "      <td>TRUE</td>\n",
              "      <td>FALSE</td>\n",
              "      <td>FALSE</td>\n",
              "      <td>FALSE</td>\n",
              "      <td>positive</td>\n",
              "      <td>None</td>\n",
              "      <td>None</td>\n",
              "      <td>Abroad</td>\n",
              "    </tr>\n",
              "    <tr>\n",
              "      <th>2</th>\n",
              "      <td>3</td>\n",
              "      <td>11-03-2020</td>\n",
              "      <td>FALSE</td>\n",
              "      <td>TRUE</td>\n",
              "      <td>FALSE</td>\n",
              "      <td>FALSE</td>\n",
              "      <td>FALSE</td>\n",
              "      <td>positive</td>\n",
              "      <td>None</td>\n",
              "      <td>None</td>\n",
              "      <td>Abroad</td>\n",
              "    </tr>\n",
              "    <tr>\n",
              "      <th>3</th>\n",
              "      <td>4</td>\n",
              "      <td>11-03-2020</td>\n",
              "      <td>TRUE</td>\n",
              "      <td>FALSE</td>\n",
              "      <td>FALSE</td>\n",
              "      <td>FALSE</td>\n",
              "      <td>FALSE</td>\n",
              "      <td>negative</td>\n",
              "      <td>None</td>\n",
              "      <td>None</td>\n",
              "      <td>Abroad</td>\n",
              "    </tr>\n",
              "    <tr>\n",
              "      <th>4</th>\n",
              "      <td>5</td>\n",
              "      <td>11-03-2020</td>\n",
              "      <td>TRUE</td>\n",
              "      <td>FALSE</td>\n",
              "      <td>FALSE</td>\n",
              "      <td>FALSE</td>\n",
              "      <td>FALSE</td>\n",
              "      <td>negative</td>\n",
              "      <td>None</td>\n",
              "      <td>None</td>\n",
              "      <td>Contact with confirmed</td>\n",
              "    </tr>\n",
              "  </tbody>\n",
              "</table>\n",
              "</div>\n",
              "    <div class=\"colab-df-buttons\">\n",
              "\n",
              "  <div class=\"colab-df-container\">\n",
              "    <button class=\"colab-df-convert\" onclick=\"convertToInteractive('df-cf64241b-c65f-4b7c-ab76-41d7382af3ee')\"\n",
              "            title=\"Convert this dataframe to an interactive table.\"\n",
              "            style=\"display:none;\">\n",
              "\n",
              "  <svg xmlns=\"http://www.w3.org/2000/svg\" height=\"24px\" viewBox=\"0 -960 960 960\">\n",
              "    <path d=\"M120-120v-720h720v720H120Zm60-500h600v-160H180v160Zm220 220h160v-160H400v160Zm0 220h160v-160H400v160ZM180-400h160v-160H180v160Zm440 0h160v-160H620v160ZM180-180h160v-160H180v160Zm440 0h160v-160H620v160Z\"/>\n",
              "  </svg>\n",
              "    </button>\n",
              "\n",
              "  <style>\n",
              "    .colab-df-container {\n",
              "      display:flex;\n",
              "      gap: 12px;\n",
              "    }\n",
              "\n",
              "    .colab-df-convert {\n",
              "      background-color: #E8F0FE;\n",
              "      border: none;\n",
              "      border-radius: 50%;\n",
              "      cursor: pointer;\n",
              "      display: none;\n",
              "      fill: #1967D2;\n",
              "      height: 32px;\n",
              "      padding: 0 0 0 0;\n",
              "      width: 32px;\n",
              "    }\n",
              "\n",
              "    .colab-df-convert:hover {\n",
              "      background-color: #E2EBFA;\n",
              "      box-shadow: 0px 1px 2px rgba(60, 64, 67, 0.3), 0px 1px 3px 1px rgba(60, 64, 67, 0.15);\n",
              "      fill: #174EA6;\n",
              "    }\n",
              "\n",
              "    .colab-df-buttons div {\n",
              "      margin-bottom: 4px;\n",
              "    }\n",
              "\n",
              "    [theme=dark] .colab-df-convert {\n",
              "      background-color: #3B4455;\n",
              "      fill: #D2E3FC;\n",
              "    }\n",
              "\n",
              "    [theme=dark] .colab-df-convert:hover {\n",
              "      background-color: #434B5C;\n",
              "      box-shadow: 0px 1px 3px 1px rgba(0, 0, 0, 0.15);\n",
              "      filter: drop-shadow(0px 1px 2px rgba(0, 0, 0, 0.3));\n",
              "      fill: #FFFFFF;\n",
              "    }\n",
              "  </style>\n",
              "\n",
              "    <script>\n",
              "      const buttonEl =\n",
              "        document.querySelector('#df-cf64241b-c65f-4b7c-ab76-41d7382af3ee button.colab-df-convert');\n",
              "      buttonEl.style.display =\n",
              "        google.colab.kernel.accessAllowed ? 'block' : 'none';\n",
              "\n",
              "      async function convertToInteractive(key) {\n",
              "        const element = document.querySelector('#df-cf64241b-c65f-4b7c-ab76-41d7382af3ee');\n",
              "        const dataTable =\n",
              "          await google.colab.kernel.invokeFunction('convertToInteractive',\n",
              "                                                    [key], {});\n",
              "        if (!dataTable) return;\n",
              "\n",
              "        const docLinkHtml = 'Like what you see? Visit the ' +\n",
              "          '<a target=\"_blank\" href=https://colab.research.google.com/notebooks/data_table.ipynb>data table notebook</a>'\n",
              "          + ' to learn more about interactive tables.';\n",
              "        element.innerHTML = '';\n",
              "        dataTable['output_type'] = 'display_data';\n",
              "        await google.colab.output.renderOutput(dataTable, element);\n",
              "        const docLink = document.createElement('div');\n",
              "        docLink.innerHTML = docLinkHtml;\n",
              "        element.appendChild(docLink);\n",
              "      }\n",
              "    </script>\n",
              "  </div>\n",
              "\n",
              "\n",
              "<div id=\"df-aff11af9-ba61-4d81-a891-a5790cd4c7a2\">\n",
              "  <button class=\"colab-df-quickchart\" onclick=\"quickchart('df-aff11af9-ba61-4d81-a891-a5790cd4c7a2')\"\n",
              "            title=\"Suggest charts.\"\n",
              "            style=\"display:none;\">\n",
              "\n",
              "<svg xmlns=\"http://www.w3.org/2000/svg\" height=\"24px\"viewBox=\"0 0 24 24\"\n",
              "     width=\"24px\">\n",
              "    <g>\n",
              "        <path d=\"M19 3H5c-1.1 0-2 .9-2 2v14c0 1.1.9 2 2 2h14c1.1 0 2-.9 2-2V5c0-1.1-.9-2-2-2zM9 17H7v-7h2v7zm4 0h-2V7h2v10zm4 0h-2v-4h2v4z\"/>\n",
              "    </g>\n",
              "</svg>\n",
              "  </button>\n",
              "\n",
              "<style>\n",
              "  .colab-df-quickchart {\n",
              "      --bg-color: #E8F0FE;\n",
              "      --fill-color: #1967D2;\n",
              "      --hover-bg-color: #E2EBFA;\n",
              "      --hover-fill-color: #174EA6;\n",
              "      --disabled-fill-color: #AAA;\n",
              "      --disabled-bg-color: #DDD;\n",
              "  }\n",
              "\n",
              "  [theme=dark] .colab-df-quickchart {\n",
              "      --bg-color: #3B4455;\n",
              "      --fill-color: #D2E3FC;\n",
              "      --hover-bg-color: #434B5C;\n",
              "      --hover-fill-color: #FFFFFF;\n",
              "      --disabled-bg-color: #3B4455;\n",
              "      --disabled-fill-color: #666;\n",
              "  }\n",
              "\n",
              "  .colab-df-quickchart {\n",
              "    background-color: var(--bg-color);\n",
              "    border: none;\n",
              "    border-radius: 50%;\n",
              "    cursor: pointer;\n",
              "    display: none;\n",
              "    fill: var(--fill-color);\n",
              "    height: 32px;\n",
              "    padding: 0;\n",
              "    width: 32px;\n",
              "  }\n",
              "\n",
              "  .colab-df-quickchart:hover {\n",
              "    background-color: var(--hover-bg-color);\n",
              "    box-shadow: 0 1px 2px rgba(60, 64, 67, 0.3), 0 1px 3px 1px rgba(60, 64, 67, 0.15);\n",
              "    fill: var(--button-hover-fill-color);\n",
              "  }\n",
              "\n",
              "  .colab-df-quickchart-complete:disabled,\n",
              "  .colab-df-quickchart-complete:disabled:hover {\n",
              "    background-color: var(--disabled-bg-color);\n",
              "    fill: var(--disabled-fill-color);\n",
              "    box-shadow: none;\n",
              "  }\n",
              "\n",
              "  .colab-df-spinner {\n",
              "    border: 2px solid var(--fill-color);\n",
              "    border-color: transparent;\n",
              "    border-bottom-color: var(--fill-color);\n",
              "    animation:\n",
              "      spin 1s steps(1) infinite;\n",
              "  }\n",
              "\n",
              "  @keyframes spin {\n",
              "    0% {\n",
              "      border-color: transparent;\n",
              "      border-bottom-color: var(--fill-color);\n",
              "      border-left-color: var(--fill-color);\n",
              "    }\n",
              "    20% {\n",
              "      border-color: transparent;\n",
              "      border-left-color: var(--fill-color);\n",
              "      border-top-color: var(--fill-color);\n",
              "    }\n",
              "    30% {\n",
              "      border-color: transparent;\n",
              "      border-left-color: var(--fill-color);\n",
              "      border-top-color: var(--fill-color);\n",
              "      border-right-color: var(--fill-color);\n",
              "    }\n",
              "    40% {\n",
              "      border-color: transparent;\n",
              "      border-right-color: var(--fill-color);\n",
              "      border-top-color: var(--fill-color);\n",
              "    }\n",
              "    60% {\n",
              "      border-color: transparent;\n",
              "      border-right-color: var(--fill-color);\n",
              "    }\n",
              "    80% {\n",
              "      border-color: transparent;\n",
              "      border-right-color: var(--fill-color);\n",
              "      border-bottom-color: var(--fill-color);\n",
              "    }\n",
              "    90% {\n",
              "      border-color: transparent;\n",
              "      border-bottom-color: var(--fill-color);\n",
              "    }\n",
              "  }\n",
              "</style>\n",
              "\n",
              "  <script>\n",
              "    async function quickchart(key) {\n",
              "      const quickchartButtonEl =\n",
              "        document.querySelector('#' + key + ' button');\n",
              "      quickchartButtonEl.disabled = true;  // To prevent multiple clicks.\n",
              "      quickchartButtonEl.classList.add('colab-df-spinner');\n",
              "      try {\n",
              "        const charts = await google.colab.kernel.invokeFunction(\n",
              "            'suggestCharts', [key], {});\n",
              "      } catch (error) {\n",
              "        console.error('Error during call to suggestCharts:', error);\n",
              "      }\n",
              "      quickchartButtonEl.classList.remove('colab-df-spinner');\n",
              "      quickchartButtonEl.classList.add('colab-df-quickchart-complete');\n",
              "    }\n",
              "    (() => {\n",
              "      let quickchartButtonEl =\n",
              "        document.querySelector('#df-aff11af9-ba61-4d81-a891-a5790cd4c7a2 button');\n",
              "      quickchartButtonEl.style.display =\n",
              "        google.colab.kernel.accessAllowed ? 'block' : 'none';\n",
              "    })();\n",
              "  </script>\n",
              "</div>\n",
              "    </div>\n",
              "  </div>\n"
            ]
          },
          "metadata": {},
          "execution_count": 10
        }
      ]
    },
    {
      "cell_type": "code",
      "source": [
        "def print_unique_categories(dataframe, columns):\n",
        "    for column in columns:\n",
        "        if column in dataframe.columns:\n",
        "            print(f\"Categories in '{column}' variable: {dataframe[column].unique()}\\n\")\n",
        "        else:\n",
        "            print(f\"Column '{column}' not found in the DataFrame.\")\n",
        "\n",
        "print_unique_categories(df, df.drop(columns=['Ind_ID', 'Test_date'], axis=1).columns)"
      ],
      "metadata": {
        "colab": {
          "base_uri": "https://localhost:8080/"
        },
        "id": "80WH-bNVEP9X",
        "outputId": "46b121b0-ad30-4e0f-d36a-8dc97e657a7e"
      },
      "execution_count": 11,
      "outputs": [
        {
          "output_type": "stream",
          "name": "stdout",
          "text": [
            "Categories in 'Cough_symptoms' variable: ['TRUE' 'FALSE' 'None' False True]\n",
            "\n",
            "Categories in 'Fever' variable: ['FALSE' 'TRUE' 'None' False True]\n",
            "\n",
            "Categories in 'Sore_throat' variable: ['TRUE' 'FALSE' 'None' False True]\n",
            "\n",
            "Categories in 'Shortness_of_breath' variable: ['FALSE' 'TRUE' 'None' False True]\n",
            "\n",
            "Categories in 'Headache' variable: ['FALSE' 'TRUE' 'None' False True]\n",
            "\n",
            "Categories in 'Corona' variable: ['negative' 'positive' 'other']\n",
            "\n",
            "Categories in 'Age_60_above' variable: ['None' 'No' 'Yes']\n",
            "\n",
            "Categories in 'Sex' variable: ['None' 'male' 'female']\n",
            "\n",
            "Categories in 'Known_contact' variable: ['Abroad' 'Contact with confirmed' 'Other']\n",
            "\n"
          ]
        }
      ]
    },
    {
      "cell_type": "code",
      "source": [
        "def value_counts(df, column):\n",
        "  for col in column:\n",
        "    print(f\"Value counts of {col} :\\n{df[col].value_counts()}\\n\")\n",
        "\n",
        "value_counts(df,df.drop(columns=['Ind_ID', 'Test_date'], axis=1).columns)"
      ],
      "metadata": {
        "colab": {
          "base_uri": "https://localhost:8080/"
        },
        "id": "-grfa65AFtjH",
        "outputId": "1c8a8ec7-14c2-4a07-ddbc-9ec822c517f2"
      },
      "execution_count": 12,
      "outputs": [
        {
          "output_type": "stream",
          "name": "stdout",
          "text": [
            "Value counts of Cough_symptoms :\n",
            "False    127531\n",
            "FALSE    108837\n",
            "TRUE      21983\n",
            "True      20245\n",
            "None        252\n",
            "Name: Cough_symptoms, dtype: int64\n",
            "\n",
            "Value counts of Fever :\n",
            "False    137774\n",
            "FALSE    119070\n",
            "TRUE      11750\n",
            "True      10002\n",
            "None        252\n",
            "Name: Fever, dtype: int64\n",
            "\n",
            "Value counts of Sore_throat :\n",
            "False    212584\n",
            "FALSE     64337\n",
            "TRUE       1198\n",
            "True        728\n",
            "None          1\n",
            "Name: Sore_throat, dtype: int64\n",
            "\n",
            "Value counts of Shortness_of_breath :\n",
            "False    212842\n",
            "FALSE     64428\n",
            "TRUE       1107\n",
            "True        470\n",
            "None          1\n",
            "Name: Shortness_of_breath, dtype: int64\n",
            "\n",
            "Value counts of Headache :\n",
            "False    212326\n",
            "FALSE     64107\n",
            "TRUE       1428\n",
            "True        986\n",
            "None          1\n",
            "Name: Headache, dtype: int64\n",
            "\n",
            "Value counts of Corona :\n",
            "negative    260227\n",
            "positive     14729\n",
            "other         3892\n",
            "Name: Corona, dtype: int64\n",
            "\n",
            "Value counts of Age_60_above :\n",
            "None    127320\n",
            "No      125703\n",
            "Yes      25825\n",
            "Name: Age_60_above, dtype: int64\n",
            "\n",
            "Value counts of Sex :\n",
            "female    130158\n",
            "male      129127\n",
            "None       19563\n",
            "Name: Sex, dtype: int64\n",
            "\n",
            "Value counts of Known_contact :\n",
            "Other                     242741\n",
            "Abroad                     25468\n",
            "Contact with confirmed     10639\n",
            "Name: Known_contact, dtype: int64\n",
            "\n"
          ]
        }
      ]
    },
    {
      "cell_type": "markdown",
      "source": [
        "**Insight:**\n",
        "\n",
        "1. Cough Symptoms:\n",
        "\n",
        "- \"False\" and \"FALSE\" seem to represent the absence of cough symptoms and are the most common, with a total of 237,368 cases.\n",
        "- \"TRUE\" and \"True\" represent the presence of cough symptoms, with a total of 42,228 cases.\n",
        "- There are 252 cases where the cough symptom is not specified.\n",
        "\n",
        "2. Fever:\n",
        "\n",
        "- Similar to cough symptoms, \"False\" and \"FALSE\" are the most common, with a total of 256,844 cases indicating the absence of fever.\n",
        "- \"TRUE\" and \"True\" represent the presence of fever, with a total of 21,752 cases.\n",
        "- There are 252 cases where the presence of fever is not specified.\n",
        "\n",
        "3. Sore Throat:\n",
        "\n",
        "- \"False\" and \"FALSE\" are the most common, indicating the absence of a sore throat, with a total of 276,921 cases.\n",
        "- \"TRUE\" and \"True\" represent the presence of a sore throat, with a total of 1,926 cases.\n",
        "- There is only one case where the sore throat is not specified.\n",
        "\n",
        "4. Shortness of Breath:\n",
        "\n",
        "- \"False\" and \"FALSE\" are most common, representing the absence of shortness of breath, with a total of 277,270 cases.\n",
        "- \"TRUE\" and \"True\" represent the presence of shortness of breath, with a total of 1,577 cases.\n",
        "- There is only one case where shortness of breath is not specified.\n",
        "\n",
        "5. Headache:\n",
        "\n",
        "- \"False\" and \"FALSE\" are the most common, indicating the absence of a headache, with a total of 276,433 cases.\n",
        "- \"TRUE\" and \"True\" represent the presence of a headache, with a total of 2,414 cases.\n",
        "- There is only one case where the presence of a headache is not specified.\n",
        "\n",
        "4. Corona:\n",
        "\n",
        "- \"negative\" is the most common outcome, with 260,227 cases.\n",
        "- \"positive\" indicates a positive coronavirus result, with 14,729 cases.\n",
        "- \"other\" is a category with 3,892 cases that likely represents cases other than positive or negative results.\n",
        "\n",
        "5. Age 60 Above:\n",
        "\n",
        "- \"None\" is the most common value, suggesting that age information is missing or not specified in 127,320 cases.\n",
        "- \"No\" indicates that the individual is not 60 or above, with 125,703 cases.\n",
        "- \"Yes\" indicates that the individual is 60 or above, with 25,825 cases.\n",
        "\n",
        "6. Sex:\n",
        "\n",
        "- \"female\" and \"male\" are almost evenly distributed, with 130,158 and 129,127 cases, respectively.\n",
        "- There are 19,563 cases where sex information is not provided.\n",
        "\n",
        "7. Known Contact:\n",
        "\n",
        "- \"Other\" is the most common category, indicating cases where the known contact type is not specified, with 242,741 cases.\n",
        "- \"Abroad\" suggests contact with individuals from abroad, with 25,468 cases.\n",
        "- \"Contact with confirmed\" suggests contact with confirmed COVID-19 cases, with 10,639 cases."
      ],
      "metadata": {
        "id": "secAEHLoOVJI"
      }
    },
    {
      "cell_type": "markdown",
      "source": [
        "### 3.8 Handling Data Inconsistencies and Missingness"
      ],
      "metadata": {
        "id": "kFvIcNet1Lez"
      }
    },
    {
      "cell_type": "code",
      "source": [
        "df = df.replace('None', np.nan)"
      ],
      "metadata": {
        "id": "gKI46_VWKiRF"
      },
      "execution_count": 13,
      "outputs": []
    },
    {
      "cell_type": "code",
      "source": [
        "df.isnull().sum()"
      ],
      "metadata": {
        "colab": {
          "base_uri": "https://localhost:8080/"
        },
        "id": "oa_vzN16khZf",
        "outputId": "94f83108-8b47-40e1-e0ae-855c4b526526"
      },
      "execution_count": 14,
      "outputs": [
        {
          "output_type": "execute_result",
          "data": {
            "text/plain": [
              "Ind_ID                      0\n",
              "Test_date                   0\n",
              "Cough_symptoms            252\n",
              "Fever                     252\n",
              "Sore_throat                 1\n",
              "Shortness_of_breath         1\n",
              "Headache                    1\n",
              "Corona                      0\n",
              "Age_60_above           127320\n",
              "Sex                     19563\n",
              "Known_contact               0\n",
              "dtype: int64"
            ]
          },
          "metadata": {},
          "execution_count": 14
        }
      ]
    },
    {
      "cell_type": "markdown",
      "source": [
        "**Insight:**\n",
        "\n",
        "- We have seen that there are a number of fields named 'None'.\n",
        "- All of these records appear to be null values. Therefore, we have converted all instances of 'None' to null."
      ],
      "metadata": {
        "id": "rikIp9p52IM3"
      }
    },
    {
      "cell_type": "code",
      "source": [
        "for i in df.columns:\n",
        "    print(f\"{i} has\",round(df[i].isnull().sum()*100/df.shape[0],5),\"%\")"
      ],
      "metadata": {
        "colab": {
          "base_uri": "https://localhost:8080/"
        },
        "id": "wdo_UmzRiURj",
        "outputId": "9a0d5017-1b79-4170-afb8-99eeab4456ec"
      },
      "execution_count": 15,
      "outputs": [
        {
          "output_type": "stream",
          "name": "stdout",
          "text": [
            "Ind_ID has 0.0 %\n",
            "Test_date has 0.0 %\n",
            "Cough_symptoms has 0.09037 %\n",
            "Fever has 0.09037 %\n",
            "Sore_throat has 0.00036 %\n",
            "Shortness_of_breath has 0.00036 %\n",
            "Headache has 0.00036 %\n",
            "Corona has 0.0 %\n",
            "Age_60_above has 45.65928 %\n",
            "Sex has 7.01565 %\n",
            "Known_contact has 0.0 %\n"
          ]
        }
      ]
    },
    {
      "cell_type": "markdown",
      "source": [
        "**Insight:**\n",
        "\n",
        "- We have null values in most of the columns.\n",
        "- We will rows where percentage of null values is less than 1%.\n",
        "- For missingness > 1%, we will consider them as extra category and name them accordingly."
      ],
      "metadata": {
        "id": "3byspyHNmDXW"
      }
    },
    {
      "cell_type": "markdown",
      "source": [
        "#### Dropping rows for columns with missing values less than 1%"
      ],
      "metadata": {
        "id": "fBfTfqoZ3KNN"
      }
    },
    {
      "cell_type": "code",
      "source": [
        "df = df.dropna(subset=['Cough_symptoms','Fever','Sore_throat','Shortness_of_breath','Headache'],axis=0)"
      ],
      "metadata": {
        "id": "tVVkWVILl_9y"
      },
      "execution_count": 16,
      "outputs": []
    },
    {
      "cell_type": "code",
      "source": [
        "df.isnull().sum()"
      ],
      "metadata": {
        "colab": {
          "base_uri": "https://localhost:8080/"
        },
        "id": "aa_Wo32cnFyz",
        "outputId": "80ecd70c-f3b7-45fe-fe1f-65ed65ea1838"
      },
      "execution_count": 17,
      "outputs": [
        {
          "output_type": "execute_result",
          "data": {
            "text/plain": [
              "Ind_ID                      0\n",
              "Test_date                   0\n",
              "Cough_symptoms              0\n",
              "Fever                       0\n",
              "Sore_throat                 0\n",
              "Shortness_of_breath         0\n",
              "Headache                    0\n",
              "Corona                      0\n",
              "Age_60_above           127315\n",
              "Sex                     19552\n",
              "Known_contact               0\n",
              "dtype: int64"
            ]
          },
          "metadata": {},
          "execution_count": 17
        }
      ]
    },
    {
      "cell_type": "markdown",
      "source": [
        "#### Handling Missing Data in 'Age_60_above' and 'Sex' Columns"
      ],
      "metadata": {
        "id": "6MpZIfM330lr"
      }
    },
    {
      "cell_type": "code",
      "source": [
        "df['Age_60_above'] = df['Age_60_above'].fillna('Unspecified')\n",
        "df['Sex'] = df['Sex'].fillna('Unspecified')"
      ],
      "metadata": {
        "id": "XxvG7vpPnICB"
      },
      "execution_count": 18,
      "outputs": []
    },
    {
      "cell_type": "markdown",
      "source": [
        "#### Handling Inconsistency in Target column"
      ],
      "metadata": {
        "id": "Jy2elXZV4b_-"
      }
    },
    {
      "cell_type": "code",
      "source": [
        "df['Corona'] = df['Corona'].replace({'other': np.nan})\n",
        "df = df.dropna(axis=0)"
      ],
      "metadata": {
        "id": "U_lTD38OxgUN"
      },
      "execution_count": 19,
      "outputs": []
    },
    {
      "cell_type": "markdown",
      "source": [
        "#### Handling Inconsistencies in different columns"
      ],
      "metadata": {
        "id": "kPs4Smrc4nHF"
      }
    },
    {
      "cell_type": "code",
      "source": [
        "df['Cough_symptoms']      = df['Cough_symptoms'].replace({'TRUE': True, 'FALSE': False, 'True': True, 'False': False})\n",
        "df['Fever']               = df['Fever'].replace({'TRUE': True, 'FALSE': False, 'True': True, 'False': False})\n",
        "df['Sore_throat']         = df['Sore_throat'].replace({'TRUE': True, 'FALSE': False, 'True': True, 'False': False})\n",
        "df['Shortness_of_breath'] = df['Shortness_of_breath'].replace({'TRUE': True, 'FALSE': False, 'True': True, 'False': False})\n",
        "df['Headache']            = df['Headache'].replace({'TRUE': True, 'FALSE': False, 'True': True, 'False': False})"
      ],
      "metadata": {
        "id": "FQH4X-zGrckk"
      },
      "execution_count": 20,
      "outputs": []
    },
    {
      "cell_type": "code",
      "source": [
        "value_counts(df,df.drop(columns=['Ind_ID', 'Test_date'], axis=1).columns)"
      ],
      "metadata": {
        "colab": {
          "base_uri": "https://localhost:8080/"
        },
        "id": "K9BPU6ZqreuY",
        "outputId": "3b19d927-4839-4c0f-ccd6-f2e53d0bdc5b"
      },
      "execution_count": 21,
      "outputs": [
        {
          "output_type": "stream",
          "name": "stdout",
          "text": [
            "Value counts of Cough_symptoms :\n",
            "False    233133\n",
            "True      41569\n",
            "Name: Cough_symptoms, dtype: int64\n",
            "\n",
            "Value counts of Fever :\n",
            "False    253328\n",
            "True      21374\n",
            "Name: Fever, dtype: int64\n",
            "\n",
            "Value counts of Sore_throat :\n",
            "False    272814\n",
            "True       1888\n",
            "Name: Sore_throat, dtype: int64\n",
            "\n",
            "Value counts of Shortness_of_breath :\n",
            "False    273156\n",
            "True       1546\n",
            "Name: Shortness_of_breath, dtype: int64\n",
            "\n",
            "Value counts of Headache :\n",
            "False    272325\n",
            "True       2377\n",
            "Name: Headache, dtype: int64\n",
            "\n",
            "Value counts of Corona :\n",
            "negative    260008\n",
            "positive     14694\n",
            "Name: Corona, dtype: int64\n",
            "\n",
            "Value counts of Age_60_above :\n",
            "Unspecified    125659\n",
            "No             123668\n",
            "Yes             25375\n",
            "Name: Age_60_above, dtype: int64\n",
            "\n",
            "Value counts of Sex :\n",
            "female         128413\n",
            "male           127255\n",
            "Unspecified     19034\n",
            "Name: Sex, dtype: int64\n",
            "\n",
            "Value counts of Known_contact :\n",
            "Other                     239167\n",
            "Abroad                     25068\n",
            "Contact with confirmed     10467\n",
            "Name: Known_contact, dtype: int64\n",
            "\n"
          ]
        }
      ]
    },
    {
      "cell_type": "code",
      "source": [
        "# df.to_csv('Covid_data')"
      ],
      "metadata": {
        "id": "WGIk0hjQujIX"
      },
      "execution_count": 22,
      "outputs": []
    },
    {
      "cell_type": "markdown",
      "source": [
        "#### Is there an association between the presence of cough symptoms and the occurrence of Corona (COVID-19)"
      ],
      "metadata": {
        "id": "uA4b9DmJHwd_"
      }
    },
    {
      "cell_type": "code",
      "source": [
        "pd.crosstab(df['Cough_symptoms'], df['Corona'])"
      ],
      "metadata": {
        "colab": {
          "base_uri": "https://localhost:8080/",
          "height": 143
        },
        "id": "n2j2JX_au--V",
        "outputId": "6402093f-bc07-47b7-df43-5e7bfd9362d0"
      },
      "execution_count": 23,
      "outputs": [
        {
          "output_type": "execute_result",
          "data": {
            "text/plain": [
              "Corona          negative  positive\n",
              "Cough_symptoms                    \n",
              "False             225021      8112\n",
              "True               34987      6582"
            ],
            "text/html": [
              "\n",
              "  <div id=\"df-d5c83285-80cd-457a-9063-1a867c4e4df8\" class=\"colab-df-container\">\n",
              "    <div>\n",
              "<style scoped>\n",
              "    .dataframe tbody tr th:only-of-type {\n",
              "        vertical-align: middle;\n",
              "    }\n",
              "\n",
              "    .dataframe tbody tr th {\n",
              "        vertical-align: top;\n",
              "    }\n",
              "\n",
              "    .dataframe thead th {\n",
              "        text-align: right;\n",
              "    }\n",
              "</style>\n",
              "<table border=\"1\" class=\"dataframe\">\n",
              "  <thead>\n",
              "    <tr style=\"text-align: right;\">\n",
              "      <th>Corona</th>\n",
              "      <th>negative</th>\n",
              "      <th>positive</th>\n",
              "    </tr>\n",
              "    <tr>\n",
              "      <th>Cough_symptoms</th>\n",
              "      <th></th>\n",
              "      <th></th>\n",
              "    </tr>\n",
              "  </thead>\n",
              "  <tbody>\n",
              "    <tr>\n",
              "      <th>False</th>\n",
              "      <td>225021</td>\n",
              "      <td>8112</td>\n",
              "    </tr>\n",
              "    <tr>\n",
              "      <th>True</th>\n",
              "      <td>34987</td>\n",
              "      <td>6582</td>\n",
              "    </tr>\n",
              "  </tbody>\n",
              "</table>\n",
              "</div>\n",
              "    <div class=\"colab-df-buttons\">\n",
              "\n",
              "  <div class=\"colab-df-container\">\n",
              "    <button class=\"colab-df-convert\" onclick=\"convertToInteractive('df-d5c83285-80cd-457a-9063-1a867c4e4df8')\"\n",
              "            title=\"Convert this dataframe to an interactive table.\"\n",
              "            style=\"display:none;\">\n",
              "\n",
              "  <svg xmlns=\"http://www.w3.org/2000/svg\" height=\"24px\" viewBox=\"0 -960 960 960\">\n",
              "    <path d=\"M120-120v-720h720v720H120Zm60-500h600v-160H180v160Zm220 220h160v-160H400v160Zm0 220h160v-160H400v160ZM180-400h160v-160H180v160Zm440 0h160v-160H620v160ZM180-180h160v-160H180v160Zm440 0h160v-160H620v160Z\"/>\n",
              "  </svg>\n",
              "    </button>\n",
              "\n",
              "  <style>\n",
              "    .colab-df-container {\n",
              "      display:flex;\n",
              "      gap: 12px;\n",
              "    }\n",
              "\n",
              "    .colab-df-convert {\n",
              "      background-color: #E8F0FE;\n",
              "      border: none;\n",
              "      border-radius: 50%;\n",
              "      cursor: pointer;\n",
              "      display: none;\n",
              "      fill: #1967D2;\n",
              "      height: 32px;\n",
              "      padding: 0 0 0 0;\n",
              "      width: 32px;\n",
              "    }\n",
              "\n",
              "    .colab-df-convert:hover {\n",
              "      background-color: #E2EBFA;\n",
              "      box-shadow: 0px 1px 2px rgba(60, 64, 67, 0.3), 0px 1px 3px 1px rgba(60, 64, 67, 0.15);\n",
              "      fill: #174EA6;\n",
              "    }\n",
              "\n",
              "    .colab-df-buttons div {\n",
              "      margin-bottom: 4px;\n",
              "    }\n",
              "\n",
              "    [theme=dark] .colab-df-convert {\n",
              "      background-color: #3B4455;\n",
              "      fill: #D2E3FC;\n",
              "    }\n",
              "\n",
              "    [theme=dark] .colab-df-convert:hover {\n",
              "      background-color: #434B5C;\n",
              "      box-shadow: 0px 1px 3px 1px rgba(0, 0, 0, 0.15);\n",
              "      filter: drop-shadow(0px 1px 2px rgba(0, 0, 0, 0.3));\n",
              "      fill: #FFFFFF;\n",
              "    }\n",
              "  </style>\n",
              "\n",
              "    <script>\n",
              "      const buttonEl =\n",
              "        document.querySelector('#df-d5c83285-80cd-457a-9063-1a867c4e4df8 button.colab-df-convert');\n",
              "      buttonEl.style.display =\n",
              "        google.colab.kernel.accessAllowed ? 'block' : 'none';\n",
              "\n",
              "      async function convertToInteractive(key) {\n",
              "        const element = document.querySelector('#df-d5c83285-80cd-457a-9063-1a867c4e4df8');\n",
              "        const dataTable =\n",
              "          await google.colab.kernel.invokeFunction('convertToInteractive',\n",
              "                                                    [key], {});\n",
              "        if (!dataTable) return;\n",
              "\n",
              "        const docLinkHtml = 'Like what you see? Visit the ' +\n",
              "          '<a target=\"_blank\" href=https://colab.research.google.com/notebooks/data_table.ipynb>data table notebook</a>'\n",
              "          + ' to learn more about interactive tables.';\n",
              "        element.innerHTML = '';\n",
              "        dataTable['output_type'] = 'display_data';\n",
              "        await google.colab.output.renderOutput(dataTable, element);\n",
              "        const docLink = document.createElement('div');\n",
              "        docLink.innerHTML = docLinkHtml;\n",
              "        element.appendChild(docLink);\n",
              "      }\n",
              "    </script>\n",
              "  </div>\n",
              "\n",
              "\n",
              "<div id=\"df-d9a9d391-f22c-448f-b0fe-7eed8b493631\">\n",
              "  <button class=\"colab-df-quickchart\" onclick=\"quickchart('df-d9a9d391-f22c-448f-b0fe-7eed8b493631')\"\n",
              "            title=\"Suggest charts.\"\n",
              "            style=\"display:none;\">\n",
              "\n",
              "<svg xmlns=\"http://www.w3.org/2000/svg\" height=\"24px\"viewBox=\"0 0 24 24\"\n",
              "     width=\"24px\">\n",
              "    <g>\n",
              "        <path d=\"M19 3H5c-1.1 0-2 .9-2 2v14c0 1.1.9 2 2 2h14c1.1 0 2-.9 2-2V5c0-1.1-.9-2-2-2zM9 17H7v-7h2v7zm4 0h-2V7h2v10zm4 0h-2v-4h2v4z\"/>\n",
              "    </g>\n",
              "</svg>\n",
              "  </button>\n",
              "\n",
              "<style>\n",
              "  .colab-df-quickchart {\n",
              "      --bg-color: #E8F0FE;\n",
              "      --fill-color: #1967D2;\n",
              "      --hover-bg-color: #E2EBFA;\n",
              "      --hover-fill-color: #174EA6;\n",
              "      --disabled-fill-color: #AAA;\n",
              "      --disabled-bg-color: #DDD;\n",
              "  }\n",
              "\n",
              "  [theme=dark] .colab-df-quickchart {\n",
              "      --bg-color: #3B4455;\n",
              "      --fill-color: #D2E3FC;\n",
              "      --hover-bg-color: #434B5C;\n",
              "      --hover-fill-color: #FFFFFF;\n",
              "      --disabled-bg-color: #3B4455;\n",
              "      --disabled-fill-color: #666;\n",
              "  }\n",
              "\n",
              "  .colab-df-quickchart {\n",
              "    background-color: var(--bg-color);\n",
              "    border: none;\n",
              "    border-radius: 50%;\n",
              "    cursor: pointer;\n",
              "    display: none;\n",
              "    fill: var(--fill-color);\n",
              "    height: 32px;\n",
              "    padding: 0;\n",
              "    width: 32px;\n",
              "  }\n",
              "\n",
              "  .colab-df-quickchart:hover {\n",
              "    background-color: var(--hover-bg-color);\n",
              "    box-shadow: 0 1px 2px rgba(60, 64, 67, 0.3), 0 1px 3px 1px rgba(60, 64, 67, 0.15);\n",
              "    fill: var(--button-hover-fill-color);\n",
              "  }\n",
              "\n",
              "  .colab-df-quickchart-complete:disabled,\n",
              "  .colab-df-quickchart-complete:disabled:hover {\n",
              "    background-color: var(--disabled-bg-color);\n",
              "    fill: var(--disabled-fill-color);\n",
              "    box-shadow: none;\n",
              "  }\n",
              "\n",
              "  .colab-df-spinner {\n",
              "    border: 2px solid var(--fill-color);\n",
              "    border-color: transparent;\n",
              "    border-bottom-color: var(--fill-color);\n",
              "    animation:\n",
              "      spin 1s steps(1) infinite;\n",
              "  }\n",
              "\n",
              "  @keyframes spin {\n",
              "    0% {\n",
              "      border-color: transparent;\n",
              "      border-bottom-color: var(--fill-color);\n",
              "      border-left-color: var(--fill-color);\n",
              "    }\n",
              "    20% {\n",
              "      border-color: transparent;\n",
              "      border-left-color: var(--fill-color);\n",
              "      border-top-color: var(--fill-color);\n",
              "    }\n",
              "    30% {\n",
              "      border-color: transparent;\n",
              "      border-left-color: var(--fill-color);\n",
              "      border-top-color: var(--fill-color);\n",
              "      border-right-color: var(--fill-color);\n",
              "    }\n",
              "    40% {\n",
              "      border-color: transparent;\n",
              "      border-right-color: var(--fill-color);\n",
              "      border-top-color: var(--fill-color);\n",
              "    }\n",
              "    60% {\n",
              "      border-color: transparent;\n",
              "      border-right-color: var(--fill-color);\n",
              "    }\n",
              "    80% {\n",
              "      border-color: transparent;\n",
              "      border-right-color: var(--fill-color);\n",
              "      border-bottom-color: var(--fill-color);\n",
              "    }\n",
              "    90% {\n",
              "      border-color: transparent;\n",
              "      border-bottom-color: var(--fill-color);\n",
              "    }\n",
              "  }\n",
              "</style>\n",
              "\n",
              "  <script>\n",
              "    async function quickchart(key) {\n",
              "      const quickchartButtonEl =\n",
              "        document.querySelector('#' + key + ' button');\n",
              "      quickchartButtonEl.disabled = true;  // To prevent multiple clicks.\n",
              "      quickchartButtonEl.classList.add('colab-df-spinner');\n",
              "      try {\n",
              "        const charts = await google.colab.kernel.invokeFunction(\n",
              "            'suggestCharts', [key], {});\n",
              "      } catch (error) {\n",
              "        console.error('Error during call to suggestCharts:', error);\n",
              "      }\n",
              "      quickchartButtonEl.classList.remove('colab-df-spinner');\n",
              "      quickchartButtonEl.classList.add('colab-df-quickchart-complete');\n",
              "    }\n",
              "    (() => {\n",
              "      let quickchartButtonEl =\n",
              "        document.querySelector('#df-d9a9d391-f22c-448f-b0fe-7eed8b493631 button');\n",
              "      quickchartButtonEl.style.display =\n",
              "        google.colab.kernel.accessAllowed ? 'block' : 'none';\n",
              "    })();\n",
              "  </script>\n",
              "</div>\n",
              "    </div>\n",
              "  </div>\n"
            ]
          },
          "metadata": {},
          "execution_count": 23
        }
      ]
    },
    {
      "cell_type": "markdown",
      "source": [
        "For individuals who do not have cough symptoms (Cough_symptoms = False):\n",
        "\n",
        "- The number of individuals who tested negative for Corona is 225,021.\n",
        "- The number of individuals who tested positive for Corona is 8,112.\n",
        "\n",
        "For individuals who have cough symptoms (Cough_symptoms = True):\n",
        "\n",
        "- The number of individuals who tested negative for Corona is 34,987.\n",
        "- The number of individuals who tested positive for Corona is 6,582."
      ],
      "metadata": {
        "id": "KSXMi9fpHjEQ"
      }
    },
    {
      "cell_type": "markdown",
      "source": [
        "#### What is the distribution of the 'Age_60_above' variable among individuals who tested 'positive' for 'Corona'?"
      ],
      "metadata": {
        "id": "Odeh1OwjIF3M"
      }
    },
    {
      "cell_type": "code",
      "source": [
        "df[df['Corona'] == 'positive']['Age_60_above'].value_counts()"
      ],
      "metadata": {
        "colab": {
          "base_uri": "https://localhost:8080/"
        },
        "id": "1Fs22itE7UcX",
        "outputId": "f490158e-cdf6-4efc-c3e2-9d67cf47c7a7"
      },
      "execution_count": 24,
      "outputs": [
        {
          "output_type": "execute_result",
          "data": {
            "text/plain": [
              "No             9241\n",
              "Unspecified    3257\n",
              "Yes            2196\n",
              "Name: Age_60_above, dtype: int64"
            ]
          },
          "metadata": {},
          "execution_count": 24
        }
      ]
    },
    {
      "cell_type": "code",
      "source": [
        "# converting the datatype as categorical\n",
        "df_new= df.copy()\n",
        "for i in df.columns:\n",
        "    if i=='Ind_ID' or i == 'Test_date' or i == 'Test_date':\n",
        "        pass\n",
        "    else:\n",
        "        df_new[i] = df[i].astype('category')"
      ],
      "metadata": {
        "id": "dWiJJ4UpBYc1"
      },
      "execution_count": 25,
      "outputs": []
    },
    {
      "cell_type": "code",
      "source": [
        "df_new.info()"
      ],
      "metadata": {
        "colab": {
          "base_uri": "https://localhost:8080/"
        },
        "id": "Qvx1YxVXBb7Q",
        "outputId": "0ce43c0c-8d6d-4f16-8b6f-e5bf59be2cf2"
      },
      "execution_count": 26,
      "outputs": [
        {
          "output_type": "stream",
          "name": "stdout",
          "text": [
            "<class 'pandas.core.frame.DataFrame'>\n",
            "Int64Index: 274702 entries, 0 to 278847\n",
            "Data columns (total 11 columns):\n",
            " #   Column               Non-Null Count   Dtype   \n",
            "---  ------               --------------   -----   \n",
            " 0   Ind_ID               274702 non-null  int64   \n",
            " 1   Test_date            274702 non-null  object  \n",
            " 2   Cough_symptoms       274702 non-null  category\n",
            " 3   Fever                274702 non-null  category\n",
            " 4   Sore_throat          274702 non-null  category\n",
            " 5   Shortness_of_breath  274702 non-null  category\n",
            " 6   Headache             274702 non-null  category\n",
            " 7   Corona               274702 non-null  category\n",
            " 8   Age_60_above         274702 non-null  category\n",
            " 9   Sex                  274702 non-null  category\n",
            " 10  Known_contact        274702 non-null  category\n",
            "dtypes: category(9), int64(1), object(1)\n",
            "memory usage: 8.6+ MB\n"
          ]
        }
      ]
    },
    {
      "cell_type": "markdown",
      "source": [
        "#### Chi- Square Test for finding the relationship between dependent and independent features."
      ],
      "metadata": {
        "id": "i0bh3qfxGvfK"
      }
    },
    {
      "cell_type": "code",
      "source": [
        "import pandas as pd\n",
        "from scipy.stats import chi2_contingency\n",
        "\n",
        "dependent_variable = 'Corona'\n",
        "\n",
        "independent_variables = ['Cough_symptoms', 'Fever', 'Sore_throat', 'Shortness_of_breath', 'Headache', 'Age_60_above', 'Sex', 'Known_contact']\n",
        "\n",
        "# empty dictionary to store chi-squared statistics and p-values\n",
        "chi_squared_results = {}\n",
        "\n",
        "# Loop through each independent variable and perform chi-squared test\n",
        "for variable in independent_variables:\n",
        "    contingency_table = pd.crosstab(df_new[dependent_variable], df_new[variable])\n",
        "    chi2, p, _, _ = chi2_contingency(contingency_table)\n",
        "    chi_squared_results[variable] = {'Chi-Squared Statistic': chi2, 'P-Value': p}\n",
        "\n",
        "#=results\n",
        "for variable, result in chi_squared_results.items():\n",
        "    print(f\"Chi-Squared Test for {variable}:\")\n",
        "    print(f\"Chi-Squared Statistic: {result['Chi-Squared Statistic']:.2f}\")\n",
        "    print(f\"P-Value: {result['P-Value']:.4f}\")\n",
        "    print()\n"
      ],
      "metadata": {
        "colab": {
          "base_uri": "https://localhost:8080/"
        },
        "id": "nY3Ld8sIBBnD",
        "outputId": "d1a1eaa0-b0df-4109-b5c8-6135c2baee13"
      },
      "execution_count": 27,
      "outputs": [
        {
          "output_type": "stream",
          "name": "stdout",
          "text": [
            "Chi-Squared Test for Cough_symptoms:\n",
            "Chi-Squared Statistic: 10632.83\n",
            "P-Value: 0.0000\n",
            "\n",
            "Chi-Squared Test for Fever:\n",
            "Chi-Squared Statistic: 19525.03\n",
            "P-Value: 0.0000\n",
            "\n",
            "Chi-Squared Test for Sore_throat:\n",
            "Chi-Squared Statistic: 21285.78\n",
            "P-Value: 0.0000\n",
            "\n",
            "Chi-Squared Test for Shortness_of_breath:\n",
            "Chi-Squared Statistic: 14952.82\n",
            "P-Value: 0.0000\n",
            "\n",
            "Chi-Squared Test for Headache:\n",
            "Chi-Squared Statistic: 37047.01\n",
            "P-Value: 0.0000\n",
            "\n",
            "Chi-Squared Test for Age_60_above:\n",
            "Chi-Squared Statistic: 3535.49\n",
            "P-Value: 0.0000\n",
            "\n",
            "Chi-Squared Test for Sex:\n",
            "Chi-Squared Statistic: 207.08\n",
            "P-Value: 0.0000\n",
            "\n",
            "Chi-Squared Test for Known_contact:\n",
            "Chi-Squared Statistic: 90514.82\n",
            "P-Value: 0.0000\n",
            "\n"
          ]
        }
      ]
    },
    {
      "cell_type": "markdown",
      "source": [
        "**Insights:**\n",
        "\n",
        "- The results of the chi-squared tests for each of  the categorical variables indicate highly significant associations between each of these variables and the \"Corona\" variable.\n",
        "- P-value close to 0 indicates observed associations are not likely due to random chance.\n",
        "- The chi-squared statistic is significantly large, suggests each of these variables (e.g., Cough_symptoms, Fever, Sore_throat, etc.) are significantly related to the occurrence of \"Corona.\""
      ],
      "metadata": {
        "id": "8h5gFCMgFynp"
      }
    },
    {
      "cell_type": "markdown",
      "source": [
        "## 4. Exploring Data ( Visualization )"
      ],
      "metadata": {
        "id": "NvIAgsdv_2aZ"
      }
    },
    {
      "cell_type": "markdown",
      "source": [
        "### 4.1 Countplots"
      ],
      "metadata": {
        "id": "nVKiH54f_-7A"
      }
    },
    {
      "cell_type": "code",
      "source": [
        "ax = sns.countplot(x='Cough_symptoms', hue='Corona', data=df, width=0.4)\n",
        "\n",
        "total = len(df)  # Total number of observations\n",
        "for p in ax.patches:\n",
        "    percentage = '{:.1f}%'.format(100 * p.get_height() / total)\n",
        "    x = p.get_x() + p.get_width() / 2\n",
        "    y = p.get_height()\n",
        "    ax.annotate(percentage, (x, y), ha='center', va='bottom')\n",
        "\n",
        "plt.title(\"Cough Symptoms vs Corona Status\")\n",
        "plt.show()"
      ],
      "metadata": {
        "colab": {
          "base_uri": "https://localhost:8080/",
          "height": 472
        },
        "id": "64zijXAC_YKy",
        "outputId": "d382270f-1e11-4047-e960-f2c60670d159"
      },
      "execution_count": 28,
      "outputs": [
        {
          "output_type": "display_data",
          "data": {
            "text/plain": [
              "<Figure size 640x480 with 1 Axes>"
            ],
            "image/png": "[encoded data removed]"
          },
          "metadata": {}
        }
      ]
    },
    {
      "cell_type": "markdown",
      "source": [
        "**Insight:**\n",
        "\n",
        "- It appears that the majority of people who tested negative for Corona did not have cough symptoms.\n",
        "- The majority of people who tested positive for Corona did have cough symptoms."
      ],
      "metadata": {
        "id": "ZmZL0qeZG3pW"
      }
    },
    {
      "cell_type": "code",
      "source": [
        "ax = sns.countplot(x='Fever', hue='Corona', data=df, width=0.4)\n",
        "\n",
        "total = len(df)  # Total number of observations\n",
        "for p in ax.patches:\n",
        "    percentage = '{:.1f}%'.format(100 * p.get_height() / total)\n",
        "    x = p.get_x() + p.get_width() / 2\n",
        "    y = p.get_height()\n",
        "    ax.annotate(percentage, (x, y), ha='center', va='bottom')\n",
        "\n",
        "plt.title(\"Fever vs Corona Status\")\n",
        "plt.show()"
      ],
      "metadata": {
        "colab": {
          "base_uri": "https://localhost:8080/",
          "height": 472
        },
        "id": "Bbzk07NqHTqZ",
        "outputId": "a685abc2-efa1-46b3-dd71-641235b15394"
      },
      "execution_count": 29,
      "outputs": [
        {
          "output_type": "display_data",
          "data": {
            "text/plain": [
              "<Figure size 640x480 with 1 Axes>"
            ],
            "image/png": "[encoded data removed]"
          },
          "metadata": {}
        }
      ]
    },
    {
      "cell_type": "markdown",
      "source": [
        "**Insight:**\n",
        "\n",
        "- It appears that the majority of people who tested negative for Corona did not have a fever.\n",
        "- A smaller percentage of people who tested positive for Corona did have a fever (2%).\n"
      ],
      "metadata": {
        "id": "TYlfZWTLIwyz"
      }
    },
    {
      "cell_type": "code",
      "source": [
        "ax = sns.countplot(x='Sore_throat', hue='Corona', data=df, width=0.4)\n",
        "\n",
        "total = len(df)  # Total number of observations\n",
        "for p in ax.patches:\n",
        "    percentage = '{:.1f}%'.format(100 * p.get_height() / total)\n",
        "    x = p.get_x() + p.get_width() / 2\n",
        "    y = p.get_height()\n",
        "    ax.annotate(percentage, (x, y), ha='center', va='bottom')\n",
        "\n",
        "plt.title(\"Sore_throat vs Corona Status\")\n",
        "plt.show()"
      ],
      "metadata": {
        "colab": {
          "base_uri": "https://localhost:8080/",
          "height": 472
        },
        "id": "nMSoi0vYIHL0",
        "outputId": "99d556dc-9dc1-4318-e6e5-f0266e5dfc52"
      },
      "execution_count": 30,
      "outputs": [
        {
          "output_type": "display_data",
          "data": {
            "text/plain": [
              "<Figure size 640x480 with 1 Axes>"
            ],
            "image/png": "[encoded data removed]"
          },
          "metadata": {}
        }
      ]
    },
    {
      "cell_type": "markdown",
      "source": [
        "**Insight:**\n",
        "\n",
        "- It appears that the majority of people who tested negative for COVID-19 did not have a sore throat.\n",
        "- A smaller percentage (0.6%) of people who tested positive for COVID-19 did have a sore throat"
      ],
      "metadata": {
        "id": "Ua4I6VSELo3H"
      }
    },
    {
      "cell_type": "code",
      "source": [
        "ax = sns.countplot(x='Shortness_of_breath', hue='Corona', data=df, width=0.4)\n",
        "\n",
        "total = len(df)  # Total number of observations\n",
        "for p in ax.patches:\n",
        "    percentage = '{:.1f}%'.format(100 * p.get_height() / total)\n",
        "    x = p.get_x() + p.get_width() / 2\n",
        "    y = p.get_height()\n",
        "    ax.annotate(percentage, (x, y), ha='center', va='bottom')\n",
        "\n",
        "plt.title(\"Shortness_of_breath vs Corona Status\")\n",
        "plt.show()"
      ],
      "metadata": {
        "colab": {
          "base_uri": "https://localhost:8080/",
          "height": 472
        },
        "id": "eHjAZFNVJO4K",
        "outputId": "99016dcc-07fe-4f75-e6b2-8d466564f945"
      },
      "execution_count": 31,
      "outputs": [
        {
          "output_type": "display_data",
          "data": {
            "text/plain": [
              "<Figure size 640x480 with 1 Axes>"
            ],
            "image/png": "[encoded data removed]"
          },
          "metadata": {}
        }
      ]
    },
    {
      "cell_type": "markdown",
      "source": [
        "**Insight:**\n",
        "\n",
        "- The majority of people who tested negative for Corona did not experience shortness of breath.\n",
        "- Small percentage of people (0.4%) who tested positive for Corona did experience shortness of breath."
      ],
      "metadata": {
        "id": "lu5f4f29w0v5"
      }
    },
    {
      "cell_type": "code",
      "source": [
        "ax = sns.countplot(x='Headache', hue='Corona', data=df, width=0.4)\n",
        "\n",
        "total = len(df)  # Total number of observations\n",
        "for p in ax.patches:\n",
        "    percentage = '{:.1f}%'.format(100 * p.get_height() / total)\n",
        "    x = p.get_x() + p.get_width() / 2\n",
        "    y = p.get_height()\n",
        "    ax.annotate(percentage, (x, y), ha='center', va='bottom')\n",
        "\n",
        "plt.title(\"Headache vs Corona Status\")\n",
        "plt.show()"
      ],
      "metadata": {
        "colab": {
          "base_uri": "https://localhost:8080/",
          "height": 472
        },
        "id": "_WMWD0DYAhH8",
        "outputId": "93ff57d6-9990-4a3c-90ac-fd1543473e02"
      },
      "execution_count": 32,
      "outputs": [
        {
          "output_type": "display_data",
          "data": {
            "text/plain": [
              "<Figure size 640x480 with 1 Axes>"
            ],
            "image/png": "[encoded data removed]"
          },
          "metadata": {}
        }
      ]
    },
    {
      "cell_type": "markdown",
      "source": [
        "**Insight:**\n",
        "\n",
        "- The majority of people who tested negative for Corona did not experience Headache.\n",
        "- Small percentage of people (0.8%) who tested positive for Corona did experience Headache."
      ],
      "metadata": {
        "id": "QORWyE2Txies"
      }
    },
    {
      "cell_type": "code",
      "source": [
        "ax = sns.countplot(x='Sex', hue='Corona', data=df, width=0.4)\n",
        "\n",
        "total = len(df)  # Total number of observations\n",
        "for p in ax.patches:\n",
        "    percentage = '{:.1f}%'.format(100 * p.get_height() / total)\n",
        "    x = p.get_x() + p.get_width() / 2\n",
        "    y = p.get_height()\n",
        "    ax.annotate(percentage, (x, y), ha='center', va='bottom')\n",
        "\n",
        "plt.title(\"Sex vs Corona Status\")\n",
        "plt.show()"
      ],
      "metadata": {
        "colab": {
          "base_uri": "https://localhost:8080/",
          "height": 472
        },
        "id": "lmPMUp4uBvSS",
        "outputId": "8083317b-879f-4392-f7e4-96e4ad283e26"
      },
      "execution_count": 33,
      "outputs": [
        {
          "output_type": "display_data",
          "data": {
            "text/plain": [
              "<Figure size 640x480 with 1 Axes>"
            ],
            "image/png": "[encoded data removed]"
          },
          "metadata": {}
        }
      ]
    },
    {
      "cell_type": "markdown",
      "source": [
        "**Insight:**\n",
        "\n",
        "- Percentage of positive cases is higher in males (2.7%) compared to females (2.2%).\n",
        "- Percentage of positive cases and negative cases is quite low for Unspecified Sex."
      ],
      "metadata": {
        "id": "XsOOb_FazpeZ"
      }
    },
    {
      "cell_type": "code",
      "source": [
        "ax = sns.countplot(x='Age_60_above', hue='Corona', data=df, width=0.4)\n",
        "\n",
        "total = len(df)  # Total number of observations\n",
        "for p in ax.patches:\n",
        "    percentage = '{:.1f}%'.format(100 * p.get_height() / total)\n",
        "    x = p.get_x() + p.get_width() / 2\n",
        "    y = p.get_height()\n",
        "    ax.annotate(percentage, (x, y), ha='center', va='bottom')\n",
        "\n",
        "plt.title(\"Age_60_above vs Corona Status\")\n",
        "plt.show()"
      ],
      "metadata": {
        "colab": {
          "base_uri": "https://localhost:8080/",
          "height": 472
        },
        "id": "BUlXtW2VC9ta",
        "outputId": "0d946b97-0c53-4fda-af53-0ef310f41d1d"
      },
      "execution_count": 34,
      "outputs": [
        {
          "output_type": "display_data",
          "data": {
            "text/plain": [
              "<Figure size 640x480 with 1 Axes>"
            ],
            "image/png": "[encoded data removed]"
          },
          "metadata": {}
        }
      ]
    },
    {
      "cell_type": "markdown",
      "source": [
        "**Insight:**\n",
        "\n",
        "- More number of people below 60 years tested positive.\n",
        "- only (0.8%) few peoples above 60 years tested positive."
      ],
      "metadata": {
        "id": "zO4XLndf13t-"
      }
    },
    {
      "cell_type": "code",
      "source": [
        "ax = sns.countplot(x='Known_contact', hue='Corona', data=df, width=0.4)\n",
        "\n",
        "total = len(df)  # Total number of observations\n",
        "for p in ax.patches:\n",
        "    percentage = '{:.1f}%'.format(100 * p.get_height() / total)\n",
        "    x = p.get_x() + p.get_width() / 2\n",
        "    y = p.get_height()\n",
        "    ax.annotate(percentage, (x, y), ha='center', va='bottom')\n",
        "\n",
        "plt.title(\"Known_contact vs Corona Status\")\n",
        "plt.show()"
      ],
      "metadata": {
        "colab": {
          "base_uri": "https://localhost:8080/",
          "height": 471
        },
        "id": "MqfK8imQEHy_",
        "outputId": "19ac2b42-37e4-4dad-df3b-b2ebdab90578"
      },
      "execution_count": 35,
      "outputs": [
        {
          "output_type": "display_data",
          "data": {
            "text/plain": [
              "<Figure size 640x480 with 1 Axes>"
            ],
            "image/png": "[encoded data removed]"
          },
          "metadata": {}
        }
      ]
    },
    {
      "cell_type": "markdown",
      "source": [
        "**Insight:**\n",
        "\n",
        "- Out of 3.8% people who had contact with confirmed known_contact, 2.7% tested positive.\n",
        "- Abroad Return positive percentage is 0.7%."
      ],
      "metadata": {
        "id": "Rswg6rl55Fxb"
      }
    },
    {
      "cell_type": "markdown",
      "source": [
        "### 4.2 Heatmap"
      ],
      "metadata": {
        "id": "iQobR2p98Jrj"
      }
    },
    {
      "cell_type": "code",
      "source": [
        "\n",
        "# List of columns to include in the heatmap\n",
        "columns_to_include = [\"Cough_symptoms\", \"Fever\", \"Sore_throat\", \"Shortness_of_breath\", \"Headache\"]\n",
        "\n",
        "# Filter the DataFrame to include only the specified columns\n",
        "data_filtered = df[columns_to_include]\n",
        "\n",
        "# Calculate the correlation matrix\n",
        "correlation_matrix = data_filtered.corr()\n",
        "\n",
        "# Create a heatmap\n",
        "plt.figure(figsize=(10, 8))\n",
        "sns.heatmap(correlation_matrix, annot=True, cmap=\"coolwarm\")\n",
        "plt.title(\"Correlation Heatmap\")\n",
        "plt.show()\n"
      ],
      "metadata": {
        "id": "UloMIreW6V_J",
        "colab": {
          "base_uri": "https://localhost:8080/",
          "height": 699
        },
        "outputId": "1c0ade6a-40d1-41be-8249-9064307de1ae"
      },
      "execution_count": 36,
      "outputs": [
        {
          "output_type": "display_data",
          "data": {
            "text/plain": [
              "<Figure size 1000x800 with 2 Axes>"
            ],
            "image/png": "[encoded data removed]"
          },
          "metadata": {}
        }
      ]
    },
    {
      "cell_type": "code",
      "source": [],
      "metadata": {
        "id": "NWhqxhxN7oby"
      },
      "execution_count": 36,
      "outputs": []
    },
    {
      "cell_type": "markdown",
      "source": [
        "#machine learning approch\n"
      ],
      "metadata": {
        "id": "AGuAypgJ-aLc"
      }
    },
    {
      "cell_type": "code",
      "source": [
        "\n",
        "\n",
        "\n",
        "# Convert the 'Test date' column to a datetime object\n",
        "df_new['Test_date'] = pd.to_datetime(df_new['Test_date'])\n",
        "\n",
        "# Define the date ranges for training, validation, and test sets\n",
        "training_start_date = pd.to_datetime(\"2020-03-11\")\n",
        "training_end_date = pd.to_datetime(\"2020-04-15\")\n",
        "validation_end_date = pd.to_datetime(\"2020-04-15\")\n",
        "test_start_date = pd.to_datetime(\"2020-04-16\")\n",
        "test_end_date = pd.to_datetime(\"2020-04-30\")\n",
        "\n",
        "# Filter the dataset based on date ranges\n",
        "training_set = df_new[(df_new['Test_date'] >= training_start_date) & (df_new['Test_date'] <= training_end_date)]\n",
        "validation_set = df_new[(df_new['Test_date'] >= training_start_date) & (df_new['Test_date'] <= validation_end_date)]\n",
        "test_set = df_new[(df_new['Test_date'] >= test_start_date) & (df_new['Test_date'] <= test_end_date)]\n",
        "\n",
        "# Print the number of samples in each set\n",
        "print(\"Training Set Size:\", len(training_set))\n",
        "print(\"Validation Set Size:\", len(validation_set))\n",
        "print(\"Test Set Size:\", len(test_set))\n"
      ],
      "metadata": {
        "colab": {
          "base_uri": "https://localhost:8080/"
        },
        "id": "Wo3clCpK_3iD",
        "outputId": "377a35ec-285b-4984-fb58-594d3bf597a3"
      },
      "execution_count": 37,
      "outputs": [
        {
          "output_type": "stream",
          "name": "stdout",
          "text": [
            "Training Set Size: 92030\n",
            "Validation Set Size: 92030\n",
            "Test Set Size: 114239\n"
          ]
        }
      ]
    },
    {
      "cell_type": "code",
      "source": [
        "import pandas as pd\n",
        "from sklearn.model_selection import train_test_split\n",
        "from sklearn.preprocessing import StandardScaler\n",
        "from sklearn.linear_model import LogisticRegression\n",
        "from sklearn.ensemble import RandomForestClassifier\n",
        "from sklearn.svm import SVC\n",
        "from sklearn.naive_bayes import GaussianNB\n",
        "from sklearn.metrics import accuracy_score, precision_score, recall_score, confusion_matrix\n",
        "\n",
        "\n",
        "# Define features and target variable\n",
        "X = df_new[[\"Cough_symptoms\", \"Fever\", \"Sore_throat\", \"Shortness_of_breath\", \"Headache\"]]\n",
        "y = df_new[\"Corona\"]\n",
        "\n",
        "# Split the data into training and testing sets (80% train, 20% test)\n",
        "X_train, X_test, y_train, y_test = train_test_split(X, y, test_size=0.2, random_state=42)\n",
        "\n",
        "# Standardize features (optional, but can be helpful for some models)\n",
        "scaler = StandardScaler()\n",
        "X_train = scaler.fit_transform(X_train)\n",
        "X_test = scaler.transform(X_test)\n",
        "\n",
        "# Initialize and train the Logistic Regression model\n",
        "logistic_model = LogisticRegression()\n",
        "logistic_model.fit(X_train, y_train)\n",
        "\n",
        "# Initialize and train the Random Forest model\n",
        "rf_model = RandomForestClassifier()\n",
        "rf_model.fit(X_train, y_train)\n",
        "\n",
        "# Initialize and train the Support Vector Machine model\n",
        "svm_model = SVC()\n",
        "svm_model.fit(X_train, y_train)\n",
        "\n",
        "# Initialize and train the Naive Bayes model\n",
        "nb_model = GaussianNB()\n",
        "nb_model.fit(X_train, y_train)\n",
        "\n",
        "# Make predictions on the test set for all models\n",
        "logistic_pred = logistic_model.predict(X_test)\n",
        "rf_pred = rf_model.predict(X_test)\n",
        "svm_pred = svm_model.predict(X_test)\n",
        "nb_pred = nb_model.predict(X_test)\n",
        "\n",
        "# Evaluate the models and calculate various metrics\n",
        "models = [\"Logistic Regression\", \"Random Forest\", \"Support Vector Machine\", \"Naive Bayes\"]\n",
        "predictions = [logistic_pred, rf_pred, svm_pred, nb_pred]\n",
        "\n",
        "for i in range(len(models)):\n",
        "    model_name = models[i]\n",
        "    y_pred = predictions[i]\n",
        "\n",
        "    accuracy = accuracy_score(y_test, y_pred)\n",
        "    precision = precision_score(y_test, y_pred, pos_label=\"positive\")\n",
        "    recall = recall_score(y_test, y_pred, pos_label=\"positive\")\n",
        "    conf_matrix = confusion_matrix(y_test, y_pred)\n",
        "\n",
        "    print(f\"Model: {model_name}\")\n",
        "    print(f\"Accuracy: {accuracy:.2f}\")\n",
        "    print(f\"Precision: {precision:.2f}\")\n",
        "    print(f\"True Positive Rate (Recall): {recall:.2f}\")\n",
        "    print(\"Confusion Matrix:\")\n",
        "    print(conf_matrix)\n",
        "    print(\"\\n\")\n"
      ],
      "metadata": {
        "colab": {
          "base_uri": "https://localhost:8080/"
        },
        "id": "vEqx2o-nA6Id",
        "outputId": "d7ffc309-1d23-4cb3-83b6-aecd9a4a3688"
      },
      "execution_count": 38,
      "outputs": [
        {
          "output_type": "stream",
          "name": "stdout",
          "text": [
            "Model: Logistic Regression\n",
            "Accuracy: 0.96\n",
            "Precision: 0.85\n",
            "True Positive Rate (Recall): 0.23\n",
            "Confusion Matrix:\n",
            "[[51896   124]\n",
            " [ 2240   681]]\n",
            "\n",
            "\n",
            "Model: Random Forest\n",
            "Accuracy: 0.96\n",
            "Precision: 0.82\n",
            "True Positive Rate (Recall): 0.26\n",
            "Confusion Matrix:\n",
            "[[51860   160]\n",
            " [ 2176   745]]\n",
            "\n",
            "\n",
            "Model: Support Vector Machine\n",
            "Accuracy: 0.96\n",
            "Precision: 0.82\n",
            "True Positive Rate (Recall): 0.26\n",
            "Confusion Matrix:\n",
            "[[51860   160]\n",
            " [ 2176   745]]\n",
            "\n",
            "\n",
            "Model: Naive Bayes\n",
            "Accuracy: 0.96\n",
            "Precision: 0.82\n",
            "True Positive Rate (Recall): 0.26\n",
            "Confusion Matrix:\n",
            "[[51860   160]\n",
            " [ 2176   745]]\n",
            "\n",
            "\n"
          ]
        }
      ]
    },
    {
      "cell_type": "code",
      "source": [
        "\n",
        "from sklearn.model_selection import train_test_split\n",
        "from sklearn.preprocessing import StandardScaler\n",
        "from sklearn.linear_model import LogisticRegression\n",
        "from sklearn.ensemble import RandomForestClassifier\n",
        "from sklearn.svm import SVC\n",
        "from sklearn.naive_bayes import GaussianNB\n",
        "from sklearn.metrics import accuracy_score\n",
        "import matplotlib.pyplot as plt\n",
        "\n",
        "\n",
        "# Initialize and train different models\n",
        "logistic_model = LogisticRegression()\n",
        "logistic_model.fit(X_train, y_train)\n",
        "\n",
        "rf_model = RandomForestClassifier()\n",
        "rf_model.fit(X_train, y_train)\n",
        "\n",
        "svm_model = SVC()\n",
        "svm_model.fit(X_train, y_train)\n",
        "\n",
        "nb_model = GaussianNB()\n",
        "nb_model.fit(X_train, y_train)\n",
        "\n",
        "# Make predictions on the test set for all models\n",
        "logistic_pred = logistic_model.predict(X_test)\n",
        "rf_pred = rf_model.predict(X_test)\n",
        "svm_pred = svm_model.predict(X_test)\n",
        "nb_pred = nb_model.predict(X_test)\n",
        "\n",
        "# Calculate accuracy for all models\n",
        "models = [\"Logistic Regression\", \"Random Forest\", \"Support Vector Machine\", \"Naive Bayes\"]\n",
        "predictions = [logistic_pred, rf_pred, svm_pred, nb_pred]\n",
        "accuracies = [accuracy_score(y_test, y_pred) for y_pred in predictions]\n",
        "\n",
        "# Create a bar chart to compare model accuracies\n",
        "plt.figure(figsize=(10, 6))\n",
        "plt.bar(models, accuracies, color=['blue', 'green', 'red', 'purple'])\n",
        "plt.xlabel(\"Models\")\n",
        "plt.ylabel(\"Accuracy\")\n",
        "plt.title(\"Model Accuracy Comparison\")\n",
        "plt.ylim(0.0, 1.0)\n",
        "plt.show()\n"
      ],
      "metadata": {
        "colab": {
          "base_uri": "https://localhost:8080/",
          "height": 564
        },
        "id": "OYuk2ZaoEGHv",
        "outputId": "4882784e-ed9e-4a09-d6b6-a314779871c0"
      },
      "execution_count": 39,
      "outputs": [
        {
          "output_type": "display_data",
          "data": {
            "text/plain": [
              "<Figure size 1000x600 with 1 Axes>"
            ],
            "image/png": "[encoded data removed]"
          },
          "metadata": {}
        }
      ]
    },
    {
      "cell_type": "code",
      "source": [],
      "metadata": {
        "id": "t15Lz1ikJAgj"
      },
      "execution_count": 39,
      "outputs": []
    }
  ]
}